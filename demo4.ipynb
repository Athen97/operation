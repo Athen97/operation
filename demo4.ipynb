{
 "cells": [
  {
   "cell_type": "markdown",
   "metadata": {},
   "source": [
    "# 循环\n",
    "- 循环是一种控制语句块重复执行的结构\n",
    "- while  适用于广度遍历\n",
    "- for    开发中经常使用"
   ]
  },
  {
   "cell_type": "markdown",
   "metadata": {},
   "source": [
    "## while 循环\n",
    "- 当一个条件保持真的时候while循环重复执行语句\n",
    "- while 循环一定要有结束条件，否则很容易进入死循环\n",
    "- while 循环的语法是：\n",
    "\n",
    "    while loop-contunuation-conndition:\n",
    "\n",
    "        Statement"
   ]
  },
  {
   "cell_type": "code",
   "execution_count": null,
   "metadata": {},
   "outputs": [],
   "source": []
  },
  {
   "cell_type": "code",
   "execution_count": null,
   "metadata": {},
   "outputs": [],
   "source": [
    "sum_ = 0\n",
    "i = 1\n",
    "\n",
    "while i <10:\n",
    "    sum_= sum_ + i\n",
    "    i = i + 1\n",
    "    print(sum_)"
   ]
  },
  {
   "cell_type": "markdown",
   "metadata": {},
   "source": [
    "## 示例：\n",
    "sum = 0\n",
    "\n",
    "i = 1\n",
    "\n",
    "while i <10:\n",
    "\n",
    "    sum = sum + i\n",
    "    i = i + 1"
   ]
  },
  {
   "cell_type": "markdown",
   "metadata": {},
   "source": [
    "## 错误示例：\n",
    "sum = 0\n",
    "\n",
    "i = 1\n",
    "\n",
    "while i <10:\n",
    "\n",
    "    sum = sum + i\n",
    "\n",
    "i = i + 1\n",
    "- 一旦进入死循环可按 Ctrl + c 停止"
   ]
  },
  {
   "cell_type": "markdown",
   "metadata": {},
   "source": [
    "## EP：\n",
    "![](../Photo/143.png)\n",
    "![](../Photo/144.png)"
   ]
  },
  {
   "cell_type": "markdown",
   "metadata": {},
   "source": [
    "# 验证码\n",
    "- 随机产生四个字母的验证码，如果正确，输出验证码正确。如果错误，产生新的验证码，用户重新输入。\n",
    "- 验证码只能输入三次，如果三次都错，返回“别爬了，我们小网站没什么好爬的”\n",
    "- 密码登录，如果三次错误，账号被锁定\n"
   ]
  },
  {
   "cell_type": "code",
   "execution_count": null,
   "metadata": {},
   "outputs": [],
   "source": [
    "import random\n",
    "i = 0\n",
    "while i <3 :\n",
    "    list_ = ['1','2','3','4','5','6','7','8','9','0','q','w','e','r','t','y','u','i','o','p','a','s','d','f','g','h','j','k','l','z','x','c','v','n','m']\n",
    "    random.shuffle(list_)\n",
    "    yanzhengma = ''.join(list_[0:4])\n",
    "    print('验证码是:',yanzhengma)\n",
    "    input_ = input('>>')\n",
    "    \n",
    "    if yanzhengma == input_:\n",
    "        print('验证码正确')\n",
    "        break\n",
    "    else:\n",
    "        print('请再输入')\n",
    "        i +=1\n",
    "#     if i ==3:\n",
    "#         print('验证码次数超限')\n",
    "else:\n",
    "    print('验证码次数超限')"
   ]
  },
  {
   "cell_type": "markdown",
   "metadata": {},
   "source": [
    "## 尝试死循环"
   ]
  },
  {
   "cell_type": "markdown",
   "metadata": {},
   "source": [
    "## 实例研究：猜数字\n",
    "- 你将要编写一个能够随机生成一个0到10之间的且包括两者的数字程序，这个程序\n",
    "- 提示用户连续地输入数字直到正确，且提示用户输入的数字是过高还是过低"
   ]
  },
  {
   "cell_type": "markdown",
   "metadata": {},
   "source": [
    "## 使用哨兵值来控制循环\n",
    "- 哨兵值来表明输入的结束\n",
    "- ![](../Photo/54.png)"
   ]
  },
  {
   "cell_type": "markdown",
   "metadata": {},
   "source": [
    "## 警告\n",
    "![](../Photo/55.png)"
   ]
  },
  {
   "cell_type": "markdown",
   "metadata": {},
   "source": [
    "## for 循环\n",
    "- Python的for 循环通过一个序列中的每个值来进行迭代\n",
    "- range(a,b,k)， a，b，k 必须为整数\n",
    "- a: start\n",
    "- b: end\n",
    "- k: step\n",
    "- 注意for 是循环一切可迭代对象，而不是只能使用range"
   ]
  },
  {
   "cell_type": "code",
   "execution_count": null,
   "metadata": {},
   "outputs": [],
   "source": [
    "#range\n",
    "for iterm in range(0,10,2):\n",
    "    print(iterm)"
   ]
  },
  {
   "cell_type": "code",
   "execution_count": null,
   "metadata": {},
   "outputs": [],
   "source": [
    "#string\n",
    "for text in 'abc':\n",
    "    print(text)"
   ]
  },
  {
   "cell_type": "code",
   "execution_count": null,
   "metadata": {},
   "outputs": [],
   "source": [
    "#查找可执行的代码 dir()\n",
    "dir('abc')"
   ]
  },
  {
   "cell_type": "markdown",
   "metadata": {},
   "source": [
    "# 在Python里面一切皆对象"
   ]
  },
  {
   "cell_type": "markdown",
   "metadata": {},
   "source": [
    "## EP:\n",
    "- ![](../Photo/145.png)"
   ]
  },
  {
   "cell_type": "code",
   "execution_count": null,
   "metadata": {
    "scrolled": true
   },
   "outputs": [],
   "source": [
    "#5.7\n",
    "for i in ('abcdefg'):\n",
    "    print(i)\n",
    "    "
   ]
  },
  {
   "cell_type": "code",
   "execution_count": null,
   "metadata": {},
   "outputs": [],
   "source": [
    "i = 0\n",
    "str_ = 'abcdefg'\n",
    "while i<7:\n",
    "    print(str_[i])\n",
    "    i +=1"
   ]
  },
  {
   "cell_type": "code",
   "execution_count": null,
   "metadata": {},
   "outputs": [],
   "source": [
    "#5.8\n",
    "sum_ = 0\n",
    "i = 0\n",
    "while i<1001:\n",
    "    sum_ =sum_ +i\n",
    "    i +=1"
   ]
  },
  {
   "cell_type": "code",
   "execution_count": null,
   "metadata": {},
   "outputs": [],
   "source": [
    "#5.9\n",
    "sum_=0\n",
    "for i in range(10000):\n",
    "    sum_ +=i\n",
    "    if sum_>10000:\n",
    "        break\n",
    "print(sum_)"
   ]
  },
  {
   "cell_type": "markdown",
   "metadata": {},
   "source": [
    "## 嵌套循环\n",
    "- 一个循环可以嵌套另一个循环\n",
    "- 每次循环外层时，内层循环都会被刷新重新完成循环\n",
    "- 也就是说，大循环执行一次，小循环会全部执行一次\n",
    "- 注意：\n",
    "> - 多层循环非常耗时\n",
    "  - 最多使用3层循环"
   ]
  },
  {
   "cell_type": "markdown",
   "metadata": {},
   "source": [
    "## EP：\n",
    "- 使用多层循环完成9X9乘法表\n",
    "- 显示50以内所有的素数"
   ]
  },
  {
   "cell_type": "code",
   "execution_count": null,
   "metadata": {
    "scrolled": true
   },
   "outputs": [],
   "source": [
    "for i in range(1,10):\n",
    "    for j in range(1,i+1):             #当i=2的时候，j的值为i+1=3才可以取到2个值\n",
    "        k = i*j\n",
    "        print('%d*%d=%-2d'%(i,j,k),end = ' ' )\n",
    "    print()#换行\n",
    "        "
   ]
  },
  {
   "cell_type": "code",
   "execution_count": null,
   "metadata": {},
   "outputs": [],
   "source": [
    "#素数\n",
    "for i in range(2,51):\n",
    "    for j in range(2,i):\n",
    "        if i % j ==0:\n",
    "            break\n",
    "    else:\n",
    "        print(i)\n",
    "    \n",
    "    "
   ]
  },
  {
   "cell_type": "markdown",
   "metadata": {},
   "source": [
    "## 关键字 break 和 continue\n",
    "- break 跳出循环，终止循环\n",
    "- continue 跳出此次循环，继续执行"
   ]
  },
  {
   "cell_type": "markdown",
   "metadata": {},
   "source": [
    "## 注意\n",
    "![](../Photo/56.png)\n",
    "![](../Photo/57.png)"
   ]
  },
  {
   "cell_type": "markdown",
   "metadata": {},
   "source": [
    "# Homework\n",
    "- 1 \n",
    "![](../Photo/58.png)"
   ]
  },
  {
   "cell_type": "code",
   "execution_count": null,
   "metadata": {},
   "outputs": [],
   "source": [
    "integer = int(input('Enter an integer ,the input ends if it is 0: '))\n",
    "z=0     #正数\n",
    "f=0     #负数\n",
    "h1=0    #正数和1\n",
    "h2=0    #负数和1\n",
    "if integer > 0:\n",
    "    z = z+1   #统计正数个数           #初次输入\n",
    "    h1=h1+integer   #正数和数1\n",
    "elif integer < 0:\n",
    "    f = f +1  #统计负数个数\n",
    "    h2=h2+integer   #负数合数1\n",
    "z1=0   #正数2\n",
    "f1=0    #负数2\n",
    "zh1=0   #正数和2\n",
    "fh1=0    #负数和2\n",
    "c1=0  #正数循环次数\n",
    "c2=0 #负数循环次数\n",
    "while integer != 0:\n",
    "    integer = eval(input('Enter an integer ,the input ends if it is 0: '))\n",
    "    if integer > 0:\n",
    "        z1 = z1+1         #统计正数个数          #循环输入\n",
    "        zh1=zh1 +integer      #统计正数合数\n",
    "        c1=c1+1\n",
    "    elif integer < 0:\n",
    "        f1 = f1 +1        #统计负数个数\n",
    "        fh1=fh1+integer       #统计负数合数\n",
    "        c2=c2+1\n",
    "else:\n",
    "    print('结束')\n",
    "Z=z+z1    #统计正数总个数\n",
    "F=f+f1  #统计负数总个数\n",
    "print('目前正数有： '+str(Z)+'个 ；负数有： '+str(F) +' 个')    #输出个数统计\n",
    "\n",
    "ZH1=zh1+h1     #正数总合数\n",
    "ZH2=fh1+h2     #负数总合数\n",
    "H= ZH1+ZH2    #输入的数的总合数\n",
    "\n",
    "print('总和为： '+str(H))      #输出总和\n",
    "\n",
    "C=c1+c2+1 #总循环次数\n",
    "p=H/C       #平均值\n",
    "\n",
    "print('平均数为： '+str(p))"
   ]
  },
  {
   "cell_type": "markdown",
   "metadata": {},
   "source": [
    "- 2\n",
    "![](../Photo/59.png)"
   ]
  },
  {
   "cell_type": "code",
   "execution_count": null,
   "metadata": {},
   "outputs": [],
   "source": [
    "money=10000 #定义今年的学费\n",
    "rate=0.05 #定义增长比率\n",
    "year=1 #定义年数\n",
    "a=[1,11] #定义存钱数组\n",
    "H=0     #总学费\n",
    "while year <11:              #当年数小于10年\n",
    "    money=money+(money*rate)\n",
    "    year = year+1\n",
    "    a.append(money)\n",
    "    \n",
    "    if year == 10:\n",
    "        print('第十年的学费为： '+str(round(money,2)))   #输出10年1后的学费\n",
    "        break\n",
    "H=(a[0]+a[1]+a[2]+a[3]+a[4]+a[5]+a[6]+a[7]+a[8]+a[9]+a[10])\n",
    "print('总学费为: '+str(H))"
   ]
  },
  {
   "cell_type": "markdown",
   "metadata": {},
   "source": [
    "- 3\n",
    "![](../Photo/58.png)"
   ]
  },
  {
   "cell_type": "markdown",
   "metadata": {},
   "source": [
    "- 4\n",
    "![](../Photo/60.png)"
   ]
  },
  {
   "cell_type": "code",
   "execution_count": null,
   "metadata": {},
   "outputs": [],
   "source": [
    "j=-1     #定义序号，因为列表1号位是0，所以这里定义为-1\n",
    "for i in range(100,1001):\n",
    "    if i%5==0 and i%6==0:    #筛选条件\n",
    "        j=j+1                \n",
    "        if j%10==0:\n",
    "            print(end='\\n')\n",
    "        print(str(i)+' ',end='')"
   ]
  },
  {
   "cell_type": "markdown",
   "metadata": {},
   "source": [
    "- 5\n",
    "![](../Photo/61.png)"
   ]
  },
  {
   "cell_type": "code",
   "execution_count": null,
   "metadata": {},
   "outputs": [],
   "source": [
    "#找最小的\n",
    "n=0\n",
    "while n**2 <12000:\n",
    "    n= n+1\n",
    "else:\n",
    "    print(n)"
   ]
  },
  {
   "cell_type": "code",
   "execution_count": null,
   "metadata": {},
   "outputs": [],
   "source": [
    "#找最大的\n",
    "n=0\n",
    "while n**3 <12000:\n",
    "    n=n+1\n",
    "else:\n",
    "    print(n-1)"
   ]
  },
  {
   "cell_type": "markdown",
   "metadata": {},
   "source": [
    "- 6\n",
    "![](../Photo/62.png)"
   ]
  },
  {
   "cell_type": "code",
   "execution_count": null,
   "metadata": {},
   "outputs": [],
   "source": [
    "money = eval(input('Loan Amount: '))\n",
    "years = eval(input('Number of Years: '))\n",
    "rate=4.875\n",
    "print('Interest rate       Monthly Payment       Total Payment')\n",
    "while rate < 8:\n",
    "    money=money+(money*(rate/100))\n",
    "    month=money/(years*12)\n",
    "    rate=rate+0.125\n",
    "    print (str(rate)+'%'+'                   '+str(round(month,2))+'                 '+str(round(money,2)),end='\\n')\n",
    "   \n"
   ]
  },
  {
   "cell_type": "markdown",
   "metadata": {},
   "source": [
    "- 7\n",
    "![](../Photo/63.png)"
   ]
  },
  {
   "cell_type": "code",
   "execution_count": null,
   "metadata": {},
   "outputs": [],
   "source": [
    "n=50000\n",
    "z=0\n",
    "while n>=1:\n",
    "    z=1/n+z\n",
    "    n=n-1\n",
    "else:\n",
    "    print('正向计算值为： '+str(z))\n",
    "    \n",
    "i=1\n",
    "f=0\n",
    "while i<=50000:\n",
    "    f=f+1/i\n",
    "    i=i+1\n",
    "else:\n",
    "    print('反向计算值为： '+str(f))\n",
    "      \n",
    " "
   ]
  },
  {
   "cell_type": "markdown",
   "metadata": {},
   "source": [
    "- 8\n",
    "![](../Photo/64.png)"
   ]
  },
  {
   "cell_type": "code",
   "execution_count": null,
   "metadata": {},
   "outputs": [],
   "source": [
    "a=1\n",
    "b=3\n",
    "sum_=0\n",
    "while a<97 and b<99:\n",
    "    sum_=a/b+sum_\n",
    "    a=a+3\n",
    "    b=b+3\n",
    "else:\n",
    "    print(sum_)"
   ]
  },
  {
   "cell_type": "markdown",
   "metadata": {},
   "source": [
    "- 9\n",
    "![](../Photo/65.png)"
   ]
  },
  {
   "cell_type": "code",
   "execution_count": 5,
   "metadata": {},
   "outputs": [
    {
     "name": "stdout",
     "output_type": "stream",
     "text": [
      "3.1416926635905797\n",
      "3.1416426560898536\n",
      "3.1416026536898842\n"
     ]
    }
   ],
   "source": [
    "i=0\n",
    "a=0\n",
    "while i < 100001:\n",
    "    a=a+((-1)**(i+1)/(2*i-1))\n",
    "    b=(a*4)-4\n",
    "    i=i+1\n",
    "    \n",
    "    if i==10000:\n",
    "        print(b)\n",
    "    elif i==20000:\n",
    "        print(b)\n",
    "    elif i==100000:\n",
    "        print(b)\n",
    "\n",
    "    \n",
    "    \n",
    "    \n",
    "      \n"
   ]
  },
  {
   "cell_type": "markdown",
   "metadata": {},
   "source": [
    "- 10 \n",
    "![](../Photo/66.png)"
   ]
  },
  {
   "cell_type": "code",
   "execution_count": 4,
   "metadata": {},
   "outputs": [
    {
     "name": "stdout",
     "output_type": "stream",
     "text": [
      "6\n",
      "24\n",
      "28\n",
      "496\n",
      "2016\n",
      "8128\n",
      "8190\n"
     ]
    }
   ],
   "source": [
    "for i in range(1,10000):  #定义取值范围\n",
    "    s=0                   #定义一个存放值\n",
    "    for k in range(1,i): #定义i的因数k的范围\n",
    "        if i%k==0:       #如果i可以整除k ，将k累加进s\n",
    "            s=s+k\n",
    "            if i==s:    #当i=s也就是i为完全数时，输出i\n",
    "                print (i)"
   ]
  },
  {
   "cell_type": "markdown",
   "metadata": {},
   "source": [
    "- 11\n",
    "![](../Photo/67.png)"
   ]
  },
  {
   "cell_type": "code",
   "execution_count": 19,
   "metadata": {},
   "outputs": [
    {
     "name": "stdout",
     "output_type": "stream",
     "text": [
      "1 2\n",
      "1 3\n",
      "1 4\n",
      "1 5\n",
      "1 6\n",
      "1 7\n",
      "2 1\n",
      "2 3\n",
      "2 4\n",
      "2 5\n",
      "2 6\n",
      "2 7\n",
      "3 1\n",
      "3 2\n",
      "3 4\n",
      "3 5\n",
      "3 6\n",
      "3 7\n",
      "4 1\n",
      "4 2\n",
      "4 3\n",
      "4 5\n",
      "4 6\n",
      "4 7\n",
      "5 1\n",
      "5 2\n",
      "5 3\n",
      "5 4\n",
      "5 6\n",
      "5 7\n",
      "6 1\n",
      "6 2\n",
      "6 3\n",
      "6 4\n",
      "6 5\n",
      "6 7\n",
      "7 1\n",
      "7 2\n",
      "7 3\n",
      "7 4\n",
      "7 5\n",
      "7 6\n",
      "The total number of all combinations is 42\n"
     ]
    }
   ],
   "source": [
    "a=[1,2,3,4,5,6,7] #定义数组\n",
    "b=0 #定义计算循环次数\n",
    "for i in a:\n",
    "    for j in a:\n",
    "        if j != i:#当两个数不一样时\n",
    "            b += 1\n",
    "            print(i,j)\n",
    "print('The total number of all combinations is '+str(b))"
   ]
  },
  {
   "cell_type": "markdown",
   "metadata": {},
   "source": [
    "- 12\n",
    "![](../Photo/68.png)"
   ]
  }
 ],
 "metadata": {
  "kernelspec": {
   "display_name": "Python 3",
   "language": "python",
   "name": "python3"
  },
  "language_info": {
   "codemirror_mode": {
    "name": "ipython",
    "version": 3
   },
   "file_extension": ".py",
   "mimetype": "text/x-python",
   "name": "python",
   "nbconvert_exporter": "python",
   "pygments_lexer": "ipython3",
   "version": "3.6.4"
  }
 },
 "nbformat": 4,
 "nbformat_minor": 2
}
