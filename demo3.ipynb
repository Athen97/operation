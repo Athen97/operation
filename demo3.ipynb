{
 "cells": [
  {
   "cell_type": "markdown",
   "metadata": {},
   "source": [
    "# 选择\n",
    "## 布尔类型、数值和表达式\n",
    "![](../Photo/33.png)\n",
    "- 注意：比较运算符的相等是两个等号，一个等到代表赋值\n",
    "- 在Python中可以用整型0来代表False，其他数字来代表True\n",
    "- 后面还会讲到 is 在判断语句中的用发"
   ]
  },
  {
   "cell_type": "code",
   "execution_count": 1,
   "metadata": {},
   "outputs": [
    {
     "data": {
      "text/plain": [
       "False"
      ]
     },
     "execution_count": 1,
     "metadata": {},
     "output_type": "execute_result"
    }
   ],
   "source": [
    "2 == True"
   ]
  },
  {
   "cell_type": "markdown",
   "metadata": {},
   "source": [
    "## 字符串的比较使用ASCII值"
   ]
  },
  {
   "cell_type": "code",
   "execution_count": 3,
   "metadata": {},
   "outputs": [
    {
     "data": {
      "text/plain": [
       "True"
      ]
     },
     "execution_count": 3,
     "metadata": {},
     "output_type": "execute_result"
    }
   ],
   "source": [
    "'a' == 'a'"
   ]
  },
  {
   "cell_type": "code",
   "execution_count": 6,
   "metadata": {},
   "outputs": [
    {
     "name": "stdout",
     "output_type": "stream",
     "text": [
      "check one number:90\n",
      "A!\n"
     ]
    }
   ],
   "source": [
    "number = eval(input('check one number:'))\n",
    "if 80<= number <90:\n",
    "    print('B!')\n",
    "elif 90 <= number:\n",
    "    print('A!')"
   ]
  },
  {
   "cell_type": "code",
   "execution_count": null,
   "metadata": {},
   "outputs": [],
   "source": []
  },
  {
   "cell_type": "markdown",
   "metadata": {},
   "source": [
    "## Markdown \n",
    "- https://github.com/younghz/Markdown"
   ]
  },
  {
   "cell_type": "markdown",
   "metadata": {},
   "source": [
    "## EP:\n",
    "- <img src=\"../Photo/34.png\"></img>\n",
    "- 输入一个数字，判断其实奇数还是偶数"
   ]
  },
  {
   "cell_type": "markdown",
   "metadata": {},
   "source": [
    "## 产生随机数字\n",
    "- 函数random.randint(a,b) 可以用来产生一个a和b之间且包括a和b的随机整数"
   ]
  },
  {
   "cell_type": "code",
   "execution_count": 42,
   "metadata": {},
   "outputs": [
    {
     "name": "stdout",
     "output_type": "stream",
     "text": [
      "请输入一个起始范围：1\n",
      "请输入一个最终范围：100\n",
      "请输入你的答案:50\n",
      "太大了！\n",
      "请输入你的答案:40\n",
      "太大了！\n",
      "请输入你的答案:20\n",
      "太大了！\n",
      "请输入你的答案:10\n",
      "太大了！\n",
      "请输入你的答案:5\n",
      "太小了!\n",
      "请输入你的答案:7\n",
      "太小了!\n",
      "请输入你的答案:9\n",
      "正确！\n"
     ]
    }
   ],
   "source": [
    "import random                                         #猜数游戏\n",
    "a= eval(input('请输入一个起始范围：'))\n",
    "b= eval(input('请输入一个最终范围：'))\n",
    "i = random.randint(a,b)\n",
    "number = ''\n",
    "while number != i:\n",
    "    number = eval(input('请输入你的答案:'))\n",
    "    if number < i:\n",
    "        print('太小了!')\n",
    "    elif number > i:\n",
    "        print('太大了！')\n",
    "    elif number == i:\n",
    "        print('正确！')\n"
   ]
  },
  {
   "cell_type": "markdown",
   "metadata": {},
   "source": [
    "##  其他random方法\n",
    "- random.random 返回0.0到1.0之间前闭后开区间的随机浮点\n",
    "- random.randrange(a,b) 前闭后开"
   ]
  },
  {
   "cell_type": "markdown",
   "metadata": {},
   "source": [
    "## EP：\n",
    "- 产生两个随机整数number1和number2，然后显示给用户，使用户输入数字的和，并判定其是否正确\n",
    "- 进阶:写一个随机序号点名程序"
   ]
  },
  {
   "cell_type": "code",
   "execution_count": 5,
   "metadata": {
    "scrolled": true
   },
   "outputs": [
    {
     "name": "stdout",
     "output_type": "stream",
     "text": [
      "number1=: 3    number2=: 10\n",
      "请输入您的答案： 13\n",
      "答案正确！\n"
     ]
    }
   ],
   "source": [
    "import random\n",
    "number1 = random.randint(1,5)\n",
    "number2 = random.randint(6,10)\n",
    "number3 = number1 + number2\n",
    "print('number1=: '+str(number1)+'    number2=: '+str(number2))\n",
    "answer = eval(input('请输入您的答案： '))\n",
    "if answer == number3:\n",
    "    print('答案正确！')\n",
    "else :\n",
    "    print('答案错误！')\n"
   ]
  },
  {
   "cell_type": "code",
   "execution_count": 57,
   "metadata": {},
   "outputs": [
    {
     "name": "stdout",
     "output_type": "stream",
     "text": [
      "姜欣欣\n"
     ]
    }
   ],
   "source": [
    "import random\n",
    "no = random.randint(1,5)\n",
    "if no == 1:\n",
    "    print('姜欣欣')\n",
    "elif no == 2:\n",
    "    print('姜双双')\n",
    "elif no == 3:\n",
    "    print('姜哈皮')\n",
    "elif no == 4:\n",
    "    print('姜麻皮')\n",
    "elif no == 5:\n",
    "    print('姜啦啦')"
   ]
  },
  {
   "cell_type": "code",
   "execution_count": 72,
   "metadata": {},
   "outputs": [
    {
     "name": "stdout",
     "output_type": "stream",
     "text": [
      "请输入您的用户类型： VIP\n",
      "恭喜您获得一个脸盆\n"
     ]
    }
   ],
   "source": [
    "import random\n",
    "type = input('请输入您的用户类型： ')\n",
    "number = ''\n",
    "if type == '普通用户':\n",
    "    number = random.randint(90,100)\n",
    "    if 90 < number <100:\n",
    "        print('恭喜您获得粪叉一枚！！！！')\n",
    "    elif 60 < number < 89:\n",
    "        print('恭喜您获得一盒鲜牛奶')\n",
    "    elif 0 <= number <59:\n",
    "        print('恭喜您获得一个脸盆')\n",
    "    \n",
    "elif type == 'VIP':\n",
    "    number = random.randint(0,100)\n",
    "    if 90 < number <100:\n",
    "        print('恭喜您获得粪叉一枚！！！！')\n",
    "    elif 60 < number < 89:\n",
    "        print('恭喜您获得一盒鲜牛奶')\n",
    "    elif 0 <= number <59:\n",
    "        print('恭喜您获得一个脸盆')\n",
    "\n",
    "    "
   ]
  },
  {
   "cell_type": "code",
   "execution_count": 3,
   "metadata": {},
   "outputs": [
    {
     "name": "stdout",
     "output_type": "stream",
     "text": [
      "请输入您的年龄：25\n",
      "请输入您的长相（好 or 不好）：好\n",
      "请输入您的收入（高 or 不高）： 不高\n",
      "请输入您是否为公务员（是 or 不是）：是\n",
      "见面吧\n"
     ]
    }
   ],
   "source": [
    "year = eval(input('请输入您的年龄：'))\n",
    "\n",
    "\n",
    "\n",
    "if year < 30:\n",
    "    face = input('请输入您的长相（好 or 不好）：')\n",
    "    if face == '好':\n",
    "        money_ = input('请输入您的收入（高 or 不高）： ')\n",
    "        if money_ == '高':\n",
    "            print('见面吧')\n",
    "        else:\n",
    "            type_ = input('请输入您是否为公务员（是 or 不是）：')\n",
    "            if type_ == '是':\n",
    "                print('见面吧')\n",
    "            else:\n",
    "                print('抱歉！')\n",
    "        \n",
    "    else:\n",
    "        print('太丑了')\n",
    "\n",
    "else:\n",
    "    print('too old')\n",
    "    "
   ]
  },
  {
   "cell_type": "markdown",
   "metadata": {},
   "source": [
    "## if语句\n",
    "- 如果条件正确就执行一个单向if语句，亦即当条件为真的时候才执行if内部的语句\n",
    "- Python有很多选择语句:\n",
    "> - 单向if \n",
    "  - 双向if-else\n",
    "  - 嵌套if\n",
    "  - 多向if-elif-else\n",
    "  \n",
    "- 注意：当语句含有子语句的时候，那么一定至少要有一个缩进，也就是说如果有儿子存在，那么一定要缩进\n",
    "- 切记不可tab键和space混用，单用tab 或者 space\n",
    "- 当你输出的结果是无论if是否为真时都需要显示时，语句应该与if对齐"
   ]
  },
  {
   "cell_type": "markdown",
   "metadata": {},
   "source": [
    "## EP：\n",
    "- 用户输入一个数字，判断其实奇数还是偶数\n",
    "- 进阶：可以查看下4.5实例研究猜生日"
   ]
  },
  {
   "cell_type": "markdown",
   "metadata": {},
   "source": [
    "## 双向if-else 语句\n",
    "- 如果条件为真，那么走if内部语句，否则走else内部语句"
   ]
  },
  {
   "cell_type": "markdown",
   "metadata": {},
   "source": [
    "## EP：\n",
    "- 产生两个随机整数number1和number2，然后显示给用户，使用户输入数字，并判定其是否正确,如果正确打印“you‘re correct”，否则打印正确错误"
   ]
  },
  {
   "cell_type": "markdown",
   "metadata": {},
   "source": [
    "## 嵌套if 和多向if-elif-else\n",
    "![](../Photo/35.png)"
   ]
  },
  {
   "cell_type": "markdown",
   "metadata": {},
   "source": [
    "## EP：\n",
    "- 提示用户输入一个年份，然后显示表示这一年的动物\n",
    "![](../Photo/36.png)\n",
    "- 计算身体质量指数的程序\n",
    "- BMI = 以千克为单位的体重除以以米为单位的身高\n",
    "![](../Photo/37.png)"
   ]
  },
  {
   "cell_type": "code",
   "execution_count": 4,
   "metadata": {},
   "outputs": [
    {
     "name": "stdout",
     "output_type": "stream",
     "text": [
      "请输入您的出生年份：1999\n",
      "您的属相为兔\n"
     ]
    }
   ],
   "source": [
    "year = eval(input('请输入您的出生年份：'))            #判断属相\n",
    "animal = year % 12 \n",
    "if animal == 0:\n",
    "    print('您的属相为猴')\n",
    "elif animal == 1:\n",
    "    print('您的属相为鸡')\n",
    "elif animal == 2:\n",
    "    print('您的属相为狗')\n",
    "elif animal == 3:\n",
    "    print('您的属相为猪')\n",
    "elif animal == 4:\n",
    "    print('您的属相为鼠')\n",
    "elif animal == 5:\n",
    "    print('您的属相为牛')\n",
    "elif animal == 6:\n",
    "    print('您的属相为虎')\n",
    "elif animal == 7:\n",
    "    print('您的属相为兔')\n",
    "elif animal == 1:\n",
    "    print('您的属相为龙')\n",
    "elif animal == 1:\n",
    "    print('您的属相为蛇')\n",
    "elif animal == 1:\n",
    "    print('您的属相为鸡=马')\n",
    "elif animal == 1:\n",
    "    print('您的属相为羊')"
   ]
  },
  {
   "cell_type": "code",
   "execution_count": 5,
   "metadata": {},
   "outputs": [
    {
     "name": "stdout",
     "output_type": "stream",
     "text": [
      "Please enter your weight： 80\n",
      "Please enter the height：1.9\n",
      "Your BMI is：22.1606648199446\n",
      "Your body is normal\n"
     ]
    }
   ],
   "source": [
    "#!/usr/bin/python                                           #BMI计算\n",
    "# -*- coding: utf-8 -*-\n",
    "kg = eval(input('Please enter your weight： '))\n",
    "m = eval(input('Please enter the height：'))\n",
    "BMI=kg/(m**2)\n",
    "print('Your BMI is：'+str(BMI))\n",
    "if BMI<=18.4:\n",
    "    print('Your body is thin')\n",
    "elif BMI<=23.9 and BMI>=18.5:\n",
    "    print('Your body is normal')\n",
    "elif BMI>=24.0 and BMI<=27.9:\n",
    "    print('Your body is too fat')\n",
    "elif BMI>=28.0:\n",
    "    print('Your body is too fat! Please stay healthy!')"
   ]
  },
  {
   "cell_type": "markdown",
   "metadata": {},
   "source": [
    "## 逻辑运算符\n",
    "![](../Photo/38.png)"
   ]
  },
  {
   "cell_type": "markdown",
   "metadata": {},
   "source": [
    "![](../Photo/39.png)\n",
    "![](../Photo/40.png)"
   ]
  },
  {
   "cell_type": "markdown",
   "metadata": {},
   "source": [
    "## EP：\n",
    "- 判定闰年：一个年份如果能被4整除但不能被100整除，或者能被400整除，那么这个年份就是闰年\n",
    "- 提示用户输入一个年份，并返回是否是闰年\n",
    "- 提示用户输入一个数字，判断其是否为水仙花数"
   ]
  },
  {
   "cell_type": "code",
   "execution_count": 3,
   "metadata": {},
   "outputs": [
    {
     "name": "stdout",
     "output_type": "stream",
     "text": [
      "请输入一个年份： 2015\n",
      "不是闰年\n"
     ]
    }
   ],
   "source": [
    "#判断闰年\n",
    "age = eval(input('请输入一个年份： '))\n",
    "if (age % 4 ==0) and  (age % 100 != 0) or (age % 400 ==0):\n",
    "    print('是闰年！')\n",
    "else:\n",
    "    print('不是闰年')\n",
    "   "
   ]
  },
  {
   "cell_type": "code",
   "execution_count": 6,
   "metadata": {},
   "outputs": [
    {
     "name": "stdout",
     "output_type": "stream",
     "text": [
      "请输入一个三位数字：370\n",
      "是水仙花数\n"
     ]
    }
   ],
   "source": [
    "#水仙花数\n",
    "num = eval(input('请输入一个三位数字：'))\n",
    "if ((num // 100)**3) + ((num % 100 // 10)**3) + (((num % 100) % 10) **3) == num:\n",
    "    print('是水仙花数')\n",
    "else:\n",
    "    print('不是水仙花数')"
   ]
  },
  {
   "cell_type": "markdown",
   "metadata": {},
   "source": [
    "## 实例研究：彩票\n",
    "![](../Photo/41.png)"
   ]
  },
  {
   "cell_type": "code",
   "execution_count": 20,
   "metadata": {},
   "outputs": [
    {
     "name": "stdout",
     "output_type": "stream",
     "text": [
      "请输入一个数字：14\n",
      "系统数字为： 91\n",
      "恭喜您获得1000美元\n"
     ]
    }
   ],
   "source": [
    "import random\n",
    "num = eval(input('请输入一个数字：'))\n",
    "numa = num // 10\n",
    "numb = num % 10\n",
    "\n",
    "num2 = random.randint(0,9)\n",
    "num3 = random.randint(0,9)\n",
    "sysnum = (num2 * 10) + num3 \n",
    "\n",
    "print('系统数字为： '+ str(sysnum))\n",
    "\n",
    "if num == sysnum:\n",
    "    print('恭喜您获得10000美元')\n",
    "elif (numa == num2 or numa == num3 ) and (numb == num2 or numb== num3):\n",
    "    print('恭喜您获得3000美元')\n",
    "elif (numa == num2 or numa == num3 ) or (numb == num2 or numb == num3):\n",
    "    print('恭喜您获得1000美元')\n",
    "else:\n",
    "    print('您没有中奖')"
   ]
  },
  {
   "cell_type": "markdown",
   "metadata": {},
   "source": [
    "# Homework\n",
    "- 1\n",
    "![](../Photo/42.png)"
   ]
  },
  {
   "cell_type": "code",
   "execution_count": 6,
   "metadata": {},
   "outputs": [
    {
     "name": "stdout",
     "output_type": "stream",
     "text": [
      "Enter a,b,c: 1,2,3\n",
      "The equation has no real roots!\n"
     ]
    }
   ],
   "source": [
    "import math\n",
    "a,b,c = eval(input('Enter a,b,c: '))\n",
    "roots = (b**2) - (4*a*c)\n",
    "if roots < 0:\n",
    "    print('The equation has no real roots!')\n",
    "elif roots == 0:\n",
    "    r1 = (-b+(math.sqrt((b**2)-(4*a*c))))/2*a\n",
    "    r2 = (-b-(math.sqrt((b**2)-(4*a*c))))/2*a\n",
    "    if r1 != 0:\n",
    "        print('The root is '+str(round(r1,4)))\n",
    "    elif r2 !=0:\n",
    "        print('The root is '+str(round(r2,4)))\n",
    "elif roots >0:\n",
    "    r1 = (-b+(math.sqrt((b**2)-(4*a*c))))/2*a\n",
    "    r2 = (-b-(math.sqrt((b**2)-(4*a*c))))/2*a\n",
    "    print('The roots are '+str(round(r1,4))+ ' and '+str(round(r2,4)))"
   ]
  },
  {
   "cell_type": "markdown",
   "metadata": {},
   "source": [
    "- 2\n",
    "![](../Photo/43.png)"
   ]
  },
  {
   "cell_type": "code",
   "execution_count": 20,
   "metadata": {},
   "outputs": [
    {
     "name": "stdout",
     "output_type": "stream",
     "text": [
      "66 + 4= ?\n",
      "请输入两数之和： 70\n",
      "正确！\n"
     ]
    }
   ],
   "source": [
    "import random\n",
    "num_1 = random.randint(0,99)\n",
    "num_2 = random.randint(0,99)\n",
    "print(str(num_1)+' + '+str(num_2)+'= ?')\n",
    "num_3 = eval(input('请输入两数之和： '))\n",
    "\n",
    "if num_3 == num_1 + num_2:\n",
    "    print('正确！')\n",
    "else:\n",
    "    print('错误！')"
   ]
  },
  {
   "cell_type": "markdown",
   "metadata": {},
   "source": [
    "- 3\n",
    "![](../Photo/44.png)"
   ]
  },
  {
   "cell_type": "code",
   "execution_count": 28,
   "metadata": {},
   "outputs": [
    {
     "name": "stdout",
     "output_type": "stream",
     "text": [
      "Enter today is day: 1\n",
      "Enter the number of days elapsed since today； 3\n",
      "Today is Monday and the future day is Thursday\n"
     ]
    }
   ],
   "source": [
    "day = eval(input('Enter today is day: '))\n",
    "since = eval(input('Enter the number of days elapsed since today； '))\n",
    "today = (day + since)%7\n",
    "if day == 0:             #判断今天是星期几\n",
    "    day1 = 'Sunday'\n",
    "elif day ==1:\n",
    "    day1 = 'Monday'\n",
    "elif day ==2:\n",
    "    day1 = 'Tuesday'\n",
    "elif day ==3:\n",
    "    day1 = 'Wednesday'\n",
    "elif day ==4:\n",
    "    day1 = 'Thursday'\n",
    "elif day ==5:\n",
    "    day1 = 'Friday'\n",
    "elif day ==6:\n",
    "    day1 = 'Saturday'\n",
    "\n",
    "if today == 0:             #判断几天后是星期几\n",
    "    day2 = 'Sunday'\n",
    "elif today ==1:\n",
    "    day2 = 'Monday'\n",
    "elif today ==2:\n",
    "    day2 = 'Tuesday'\n",
    "elif today ==3:\n",
    "    day2 = 'Wednesday'\n",
    "elif today ==4:\n",
    "    day2 = 'Thursday'\n",
    "elif today ==5:\n",
    "    day2 = 'Friday'\n",
    "elif today ==6:\n",
    "    day2 = 'Saturday'\n",
    "    \n",
    "print('Today is '+str(day1)+' and the future day is '+str(day2))"
   ]
  },
  {
   "cell_type": "markdown",
   "metadata": {},
   "source": [
    "- 4\n",
    "![](../Photo/45.png)"
   ]
  },
  {
   "cell_type": "code",
   "execution_count": 36,
   "metadata": {},
   "outputs": [
    {
     "name": "stdout",
     "output_type": "stream",
     "text": [
      "请输入三个数：14,25,4\n",
      "4,14,25\n"
     ]
    }
   ],
   "source": [
    "a,b,c = eval(input('请输入三个数：'))\n",
    "box=[0,1,2]\n",
    "if a>b and a>c:            #最大的数！\n",
    "    box[2]=a\n",
    "elif b>a and b>c:\n",
    "    box[2]=b\n",
    "elif c>a and c>b:\n",
    "    box[2]=c\n",
    "\n",
    "if b<a<c or c<a<b:       #中间值\n",
    "    box[1]=a\n",
    "elif a<b<c or c<b<a:\n",
    "    box[1]=b\n",
    "elif a<c<b or b<c<a:\n",
    "    box[1]=c\n",
    "\n",
    "if a<b and a<c:         #最小的\n",
    "    box[0]=a\n",
    "elif b<a and b<c:\n",
    "    box[0]=b\n",
    "elif c<a and c<b:\n",
    "    box[0]=c\n",
    "\n",
    "print(str(box[0])+','+str(box[1])+','+str(box[2]))"
   ]
  },
  {
   "cell_type": "markdown",
   "metadata": {},
   "source": [
    "- 5\n",
    "![](../Photo/46.png)"
   ]
  },
  {
   "cell_type": "code",
   "execution_count": 39,
   "metadata": {},
   "outputs": [
    {
     "name": "stdout",
     "output_type": "stream",
     "text": [
      "Enter weight and price for package1: 50,24.59\n",
      "Enter weight and price for package2: 25,11.99\n",
      "2.03334688897926 2.085070892410342\n",
      "Package 2 has the better price.\n"
     ]
    }
   ],
   "source": [
    "weight1,money1 = eval(input('Enter weight and price for package1: '))\n",
    "weight2,money2 = eval(input('Enter weight and price for package2: '))\n",
    "\n",
    "pace1 = weight1 /money1\n",
    "pace2 = weight2 /money2\n",
    "if pace1 > pace2:\n",
    "    print('Package 1 has the better price.')\n",
    "else:\n",
    "    print('Package 2 has the better price.')"
   ]
  },
  {
   "cell_type": "markdown",
   "metadata": {},
   "source": [
    "- 6\n",
    "![](../Photo/47.png)"
   ]
  },
  {
   "cell_type": "code",
   "execution_count": 42,
   "metadata": {},
   "outputs": [
    {
     "name": "stdout",
     "output_type": "stream",
     "text": [
      "请输入年份：2005\n",
      "请输入月份：3\n",
      "31\n"
     ]
    }
   ],
   "source": [
    "year = eval(input('请输入年份：'))\n",
    "month = eval(input('请输入月份：'))\n",
    "\n",
    "if month in (1,3,5,7,8,10,12):\n",
    "    days = 31\n",
    "elif month in (4,6,9,11):\n",
    "    days = 30\n",
    "elif month == 2:\n",
    "    if (year % 4 == 0 and year % 100 != 0) or (year % 400 == 0):\n",
    "        days = 29\n",
    "    else:\n",
    "        days =28\n",
    "print(days)\n",
    "    \n",
    "    "
   ]
  },
  {
   "cell_type": "markdown",
   "metadata": {},
   "source": [
    "- 7\n",
    "![](../Photo/48.png)"
   ]
  },
  {
   "cell_type": "code",
   "execution_count": 14,
   "metadata": {},
   "outputs": [
    {
     "name": "stdout",
     "output_type": "stream",
     "text": [
      "请输入硬币的正反（正 or 反）: 正\n",
      "硬币是正面！\n",
      "恭喜您猜对了！\n"
     ]
    }
   ],
   "source": [
    "import random\n",
    "path_ = input('请输入硬币的正反（正 or 反）: ')\n",
    "if path_ =='正':\n",
    "    peopath = 0\n",
    "elif path_ == '反':\n",
    "    peopath = 1\n",
    "\n",
    "syspath = random.randint(0,1)  #0 = 正  1 = 反\n",
    "if syspath == 0:\n",
    "    print('硬币是正面！')\n",
    "else:\n",
    "    print('硬币是反面')\n",
    "if peopath == syspath:\n",
    "    print('恭喜您猜对了！')\n",
    "else:\n",
    "    print('很遗憾您猜错了！')"
   ]
  },
  {
   "cell_type": "markdown",
   "metadata": {},
   "source": [
    "- 8\n",
    "![](../Photo/49.png)"
   ]
  },
  {
   "cell_type": "code",
   "execution_count": 16,
   "metadata": {},
   "outputs": [
    {
     "name": "stdout",
     "output_type": "stream",
     "text": [
      "请输入你的选择！（剪子=0，石头=1，布=2）： 2\n",
      "系统选择 剪子！\n",
      "你输了！\n"
     ]
    }
   ],
   "source": [
    "import random\n",
    "num = eval(input('请输入你的选择！（剪子=0，石头=1，布=2）： '))\n",
    "sys_ = random.randint(0,2)\n",
    "if sys_ == 0:                    #显示系统做出的选择\n",
    "    print('系统选择 剪子！')\n",
    "elif sys_ == 1:\n",
    "    print('系统选择 石头！')\n",
    "elif sys_ == 2:\n",
    "    print('系统选择 布！')\n",
    "\n",
    "if num == 0:                        #判断当玩家出剪子的时候的所有可能性\n",
    "    if sys_ == 0:\n",
    "        print('平局！')\n",
    "    elif sys_ == 1:\n",
    "        print('你输了！')\n",
    "    elif sys_ == 2:\n",
    "        print('你赢了！')\n",
    "elif num == 1:                     #判断当玩家出石头时的所有可能性\n",
    "    if sys_ == 0:\n",
    "        print('你赢了！')\n",
    "    elif sys_ == 1:\n",
    "        print('平局！')\n",
    "    elif sys_ == 2:\n",
    "        print('你输了！')\n",
    "elif num == 2:                     #判断玩家出布的时候的所有可能性\n",
    "    if sys_ == 0:\n",
    "        print('你输了！')\n",
    "    elif sys_ == 1:\n",
    "        print('你赢了！')\n",
    "    elif sys_ == 2:\n",
    "        print('平局！')\n"
   ]
  },
  {
   "cell_type": "markdown",
   "metadata": {},
   "source": [
    "- 9\n",
    "![](../Photo/50.png)"
   ]
  },
  {
   "cell_type": "code",
   "execution_count": 16,
   "metadata": {},
   "outputs": [
    {
     "name": "stdout",
     "output_type": "stream",
     "text": [
      "Enter year: 2018\n",
      "Enter month: 8\n",
      "Enter the day of the month: 12\n",
      "今天是星期日\n"
     ]
    }
   ],
   "source": [
    "year = eval(input('Enter year: '))                 #获取数据             \n",
    "month = eval(input('Enter month: '))\n",
    "if month == 1:\n",
    "    nmonth = 13\n",
    "    nyear = year-1\n",
    "elif month == 2:\n",
    "    nmonth = 14\n",
    "    nyear = year-1\n",
    "else:\n",
    "    nyear = year\n",
    "    nmonth = month\n",
    "k = nyear % 100\n",
    "j = nyear / 100\n",
    "day = eval(input('Enter the day of the month: '))\n",
    "h = ((day + ((26*(nmonth+1))/10) + k + (k/4)+ (j/4) + 5*j))% 7 \n",
    "week =  int(h)\n",
    "if week == 0:\n",
    "    print('今天是星期六')\n",
    "elif week == 1:\n",
    "    print('今天是星期日')\n",
    "elif week == 2:\n",
    "    print('今天是星期一')\n",
    "elif week == 3:\n",
    "    print('今天是星期二')\n",
    "elif week == 4:\n",
    "    print('今天是星期三')\n",
    "elif week == 5:\n",
    "    print('今天是星期四')\n",
    "elif week == 6:\n",
    "    print('今天是星期五')"
   ]
  },
  {
   "cell_type": "markdown",
   "metadata": {},
   "source": [
    "- 10\n",
    "![](../Photo/51.png)"
   ]
  },
  {
   "cell_type": "code",
   "execution_count": 122,
   "metadata": {},
   "outputs": [
    {
     "name": "stdout",
     "output_type": "stream",
     "text": [
      "这张牌的花色是：红桃 牌号是： King\n"
     ]
    }
   ],
   "source": [
    "import random\n",
    "poker = random.randint(0,51)\n",
    "f = [0,1,2,3,4,5,6,7,8,9,10,11,12]           #梅花\n",
    "p = [13,14,15,16,17,18,19,20,21,22,23,24,25] #红桃\n",
    "s =[26,27,28,29,30,31,32,33,34,35,36,37,38]  #方块\n",
    "b = [39,40,41,42,43,44,45,46,47,48,49,50,51] #黑桃\n",
    "\n",
    "#定义类型\n",
    "if poker >=0 and poker <= 12:\n",
    "    type = '梅花'\n",
    "elif poker >= 13 and poker <= 25:\n",
    "    type = '红桃'\n",
    "elif poker >= 26 and poker <= 38:\n",
    "    type = '方块'\n",
    "elif poker >= 39 and poker <= 51:\n",
    "    type ='黑桃'\n",
    "\n",
    "#定义牌号\n",
    "\n",
    "if poker in [0,13,26,39]:\n",
    "    num='Ace'\n",
    "elif poker in [1,14,27,40]:\n",
    "    num='2'\n",
    "elif poker in [2,15,28,41]:\n",
    "    num='3'\n",
    "elif poker in [3,16,29,42]:\n",
    "    num='4'\n",
    "elif poker in [4,17,30,43]:\n",
    "    num='5'\n",
    "elif poker in [5,18,31,44]:\n",
    "    num='6'\n",
    "elif poker in [6,19,32,45]:\n",
    "    num='7'\n",
    "elif poker in [7,20,33,46]:\n",
    "    num='8'\n",
    "elif poker in [8,21,34,47]:\n",
    "    num='9'\n",
    "elif poker in [9,22,35,48]:\n",
    "    num='10'\n",
    "elif poker in [10,23,36,49]:\n",
    "    num='Jack'\n",
    "elif poker in [11,24,37,50]:\n",
    "    num='Queen'\n",
    "elif poker in [12,25,38,51]:\n",
    "    num='King'\n",
    "\n",
    "print('这张牌的花色是：'+str(type)+' 牌号是： '+str(num))"
   ]
  },
  {
   "cell_type": "markdown",
   "metadata": {},
   "source": [
    "- 11\n",
    "![](../Photo/52.png)"
   ]
  },
  {
   "cell_type": "code",
   "execution_count": 126,
   "metadata": {},
   "outputs": [
    {
     "name": "stdout",
     "output_type": "stream",
     "text": [
      "请输入一个三位整数：232\n",
      "232 是回文数\n"
     ]
    }
   ],
   "source": [
    "number = eval(input('请输入一个三位整数：'))\n",
    "n= [0,1,2]\n",
    "n[0]=number//100           #取百位\n",
    "n[1]=(number%100 )//10     #取十位\n",
    "n[2]=(number%100) %10      #取个位\n",
    "\n",
    "first = str(n[0])+str(n[1])+str(n[2]) #从左向右读取\n",
    "last = str(n[2])+str(n[1])+str(n[0])  #从右向左读取\n",
    "\n",
    "if first == last:\n",
    "    print(str(number)+' 是回文数')\n",
    "else:\n",
    "    print(str(number)+' 不是回文数')"
   ]
  },
  {
   "cell_type": "markdown",
   "metadata": {},
   "source": [
    "- 12\n",
    "![](../Photo/53.png)"
   ]
  },
  {
   "cell_type": "code",
   "execution_count": 2,
   "metadata": {},
   "outputs": [
    {
     "name": "stdout",
     "output_type": "stream",
     "text": [
      "Enter three edges：3,45,85\n",
      "The perimeter is 133\n"
     ]
    }
   ],
   "source": [
    "a,b,c = eval(input('Enter three edges：'))\n",
    "if a+b>c or a+c>b or c+b>a:\n",
    "    num=a+b+c\n",
    "    print('The perimeter is '+str(num))\n",
    "else:\n",
    "    print('不合法！')"
   ]
  }
 ],
 "metadata": {
  "kernelspec": {
   "display_name": "Python 3",
   "language": "python",
   "name": "python3"
  },
  "language_info": {
   "codemirror_mode": {
    "name": "ipython",
    "version": 3
   },
   "file_extension": ".py",
   "mimetype": "text/x-python",
   "name": "python",
   "nbconvert_exporter": "python",
   "pygments_lexer": "ipython3",
   "version": "3.6.4"
  }
 },
 "nbformat": 4,
 "nbformat_minor": 2
}
