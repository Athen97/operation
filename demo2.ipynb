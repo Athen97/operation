{
 "cells": [
  {
   "cell_type": "markdown",
   "metadata": {},
   "source": [
    "# 数学函数、字符串和对象\n",
    "## 本章介绍Python函数来执行常见的数学运算\n",
    "- 函数是完成一个特殊任务的一组语句，可以理解为一个函数相当于一个小功能，但是在开发中，需要注意一个函数的长度最好不要超过一屏\n",
    "- Python中的内置函数是不需要Import导入的\n",
    "<img src=\"../Photo/15.png\"></img>"
   ]
  },
  {
   "cell_type": "markdown",
   "metadata": {},
   "source": [
    "## 尝试练习Python内置函数"
   ]
  },
  {
   "cell_type": "markdown",
   "metadata": {},
   "source": [
    "## Python中的math模块提供了许多数学函数\n",
    "<img src=\"../Photo/16.png\"></img>\n",
    "<img src=\"../Photo/17.png\"></img>\n"
   ]
  },
  {
   "cell_type": "markdown",
   "metadata": {},
   "source": [
    "## 两个数学常量PI和e，可以通过使用math.pi 和math.e调用"
   ]
  },
  {
   "cell_type": "markdown",
   "metadata": {},
   "source": [
    "## EP:\n",
    "- 通过math库，写一个程序，使得用户输入三个顶点(x,y)返回三个角度\n",
    "- 注意：Python计算角度为弧度制，需要将其转换为角度\n",
    "<img src=\"../Photo/18.png\">"
   ]
  },
  {
   "cell_type": "markdown",
   "metadata": {},
   "source": [
    "## 字符串和字符\n",
    "- 在Python中，字符串必须是在单引号或者双引号内，在多段换行的字符串中可以使用“”“\n",
    "- 在使用”“”时，给予其变量则变为字符串，否则当多行注释使用"
   ]
  },
  {
   "cell_type": "markdown",
   "metadata": {},
   "source": [
    "## ASCII码与Unicode码\n",
    "- <img src=\"../Photo/19.png\"></img>\n",
    "- <img src=\"../Photo/20.png\"></img>\n",
    "- <img src=\"../Photo/21.png\"></img>"
   ]
  },
  {
   "cell_type": "markdown",
   "metadata": {},
   "source": [
    "## 函数ord、chr\n",
    "- ord 返回ASCII码值\n",
    "- chr 返回字符"
   ]
  },
  {
   "cell_type": "code",
   "execution_count": 3,
   "metadata": {},
   "outputs": [
    {
     "data": {
      "text/plain": [
       "32463"
      ]
     },
     "execution_count": 3,
     "metadata": {},
     "output_type": "execute_result"
    }
   ],
   "source": [
    "ord('经')       #输入字母返回ascll值（10进制）"
   ]
  },
  {
   "cell_type": "code",
   "execution_count": 4,
   "metadata": {
    "scrolled": true
   },
   "outputs": [
    {
     "data": {
      "text/plain": [
       "'经'"
      ]
     },
     "execution_count": 4,
     "metadata": {},
     "output_type": "execute_result"
    }
   ],
   "source": [
    "chr(32463)        #输入ascll值返回字母"
   ]
  },
  {
   "cell_type": "code",
   "execution_count": 6,
   "metadata": {},
   "outputs": [
    {
     "data": {
      "text/plain": [
       "'k'"
      ]
     },
     "execution_count": 6,
     "metadata": {},
     "output_type": "execute_result"
    }
   ],
   "source": [
    "chr(ord('a')+10)"
   ]
  },
  {
   "cell_type": "code",
   "execution_count": 9,
   "metadata": {},
   "outputs": [
    {
     "name": "stdout",
     "output_type": "stream",
     "text": [
      "N\n",
      "X\n",
      "X\n",
      "*\n",
      "L\n",
      "\n",
      "*\n",
      "^\n",
      "|\n",
      "o\n",
      "o\n"
     ]
    }
   ],
   "source": [
    "title = 'DNN By Tree'                      #加密过程\n",
    "for i in title:\n",
    "    print(chr(ord(i)+10))"
   ]
  },
  {
   "cell_type": "markdown",
   "metadata": {},
   "source": [
    "## EP:\n",
    "- 利用ord与chr进行简单邮箱加密"
   ]
  },
  {
   "cell_type": "code",
   "execution_count": 16,
   "metadata": {
    "scrolled": true
   },
   "outputs": [
    {
     "name": "stdout",
     "output_type": "stream",
     "text": [
      "AA:@:?C@>Jqwksv8myw"
     ]
    }
   ],
   "source": [
    "box = '770605964@gmail.com'                     #加密\n",
    "for i in box:\n",
    "    print(chr(ord(i)+10),end = '')              # print()中末尾加入 end=' ' 实现一行输出"
   ]
  },
  {
   "cell_type": "code",
   "execution_count": 17,
   "metadata": {},
   "outputs": [
    {
     "name": "stdout",
     "output_type": "stream",
     "text": [
      "AA:@:?C@>Jqwksv8myw\n"
     ]
    }
   ],
   "source": [
    "box = '770605964@gmail.com'\n",
    "result = ''\n",
    "for i in box:\n",
    "    result = result +chr(ord(i)+10)\n",
    "print(result)"
   ]
  },
  {
   "cell_type": "code",
   "execution_count": 6,
   "metadata": {},
   "outputs": [
    {
     "name": "stdout",
     "output_type": "stream",
     "text": [
      "MD5加密前为 ：poolbreaker\n",
      "MD5加密后为 ：5c590a3dc2ff4e5cd1081255fe46840b\n"
     ]
    }
   ],
   "source": [
    "# MD5\n",
    "import hashlib  #导入哈希\n",
    "\n",
    "#待加密文字\n",
    "str_ = 'poolbreaker'\n",
    "\n",
    "# 创建md5对象\n",
    "hl = hashlib.md5()\n",
    "\n",
    "# Tips\n",
    "# 此处必须声明encode\n",
    "# 若写法为hl.update(str)  报错为： Unicode-objects must be encoded before hashing\n",
    "hl.update(str_.encode(encoding='utf-8'))\n",
    "\n",
    "print('MD5加密前为 ：' + str_)\n",
    "print('MD5加密后为 ：' + hl.hexdigest())\n"
   ]
  },
  {
   "cell_type": "code",
   "execution_count": 7,
   "metadata": {},
   "outputs": [
    {
     "name": "stdout",
     "output_type": "stream",
     "text": [
      ">>poolbreaker\n",
      "登录成功\n"
     ]
    }
   ],
   "source": [
    "import hashlib\n",
    "dataset = '5c590a3dc2ff4e5cd1081255fe46840b'            #密码的md5值\n",
    "\n",
    "password = input('>>')                                  #输入一个密码\n",
    "hl =hashlib.md5()                                       #创建md5对象\n",
    "hl.update(password.encode(encoding='utf-8'))\n",
    "\n",
    "if dataset == hl.hexdigest():                           #验证\n",
    "    print('登录成功')\n",
    "else:\n",
    "    print('登录失败')\n",
    "\n",
    "\n"
   ]
  },
  {
   "cell_type": "markdown",
   "metadata": {},
   "source": [
    "## 转义序列 \\\n",
    "- a = \"He said,\"Johon's program is easy to read\"\n",
    "- 转掉它原来的意思\n",
    "- 一般情况下只有当语句与默认方法相撞的时候，就需要转义"
   ]
  },
  {
   "cell_type": "markdown",
   "metadata": {},
   "source": [
    "## 高级print\n",
    "- 参数 end： 以什么方式结束打印\n",
    "- 默认换行打印"
   ]
  },
  {
   "cell_type": "code",
   "execution_count": 9,
   "metadata": {},
   "outputs": [
    {
     "name": "stdout",
     "output_type": "stream",
     "text": [
      "ab!"
     ]
    }
   ],
   "source": [
    "print('a','b',sep='',end='!')"
   ]
  },
  {
   "cell_type": "markdown",
   "metadata": {},
   "source": [
    "## 函数str\n",
    "- 将类型强制转换成字符串类型\n",
    "- 其他一些以后会学到(list,set,tuple...)"
   ]
  },
  {
   "cell_type": "markdown",
   "metadata": {},
   "source": [
    "## 字符串连接操作\n",
    "- 直接使用 “+” \n",
    "- join() 函数 "
   ]
  },
  {
   "cell_type": "code",
   "execution_count": 17,
   "metadata": {},
   "outputs": [
    {
     "data": {
      "text/plain": [
       "'ab'"
      ]
     },
     "execution_count": 17,
     "metadata": {},
     "output_type": "execute_result"
    }
   ],
   "source": [
    " 'a' + 'b'"
   ]
  },
  {
   "cell_type": "code",
   "execution_count": 18,
   "metadata": {},
   "outputs": [
    {
     "data": {
      "text/plain": [
       "'b!r!e!a!k!e!r'"
      ]
     },
     "execution_count": 18,
     "metadata": {},
     "output_type": "execute_result"
    }
   ],
   "source": [
    " '!'.join('breaker')             # 只有字符串（str）才可以使用join \n",
    "                                # %time 显示本行代码运行时间"
   ]
  },
  {
   "cell_type": "markdown",
   "metadata": {},
   "source": [
    "## EP：\n",
    "- 将 “Welcome” “to” \"Python\" 拼接\n",
    "- 将int型 100 与 “joker is a bad man” 拼接\n",
    "- 从控制台读取字符串\n",
    "> 输入一个名字返回夸奖此人"
   ]
  },
  {
   "cell_type": "code",
   "execution_count": 28,
   "metadata": {},
   "outputs": [
    {
     "name": "stdout",
     "output_type": "stream",
     "text": [
      "Welcome to python\n"
     ]
    }
   ],
   "source": [
    "print('Welcome'+' to '+ 'python')"
   ]
  },
  {
   "cell_type": "code",
   "execution_count": 20,
   "metadata": {
    "scrolled": true
   },
   "outputs": [
    {
     "name": "stdout",
     "output_type": "stream",
     "text": [
      "100joker is a bad man\n"
     ]
    }
   ],
   "source": [
    "print(str('100')+'joker is a bad man')"
   ]
  },
  {
   "cell_type": "code",
   "execution_count": 29,
   "metadata": {},
   "outputs": [
    {
     "name": "stdout",
     "output_type": "stream",
     "text": [
      "输入一个名字： asd\n",
      "asd is a good studies\n"
     ]
    }
   ],
   "source": [
    "name = input('输入一个名字： ')\n",
    "print(str(name),' is a good studies',sep='')\n",
    "#print(str(name)+' is a good studies')"
   ]
  },
  {
   "cell_type": "markdown",
   "metadata": {},
   "source": [
    "## 实例研究：最小数量硬币\n",
    "- 开发一个程序，让用户输入总金额，这是一个用美元和美分表示的浮点值，返回一个由美元、两角五分的硬币、一角的硬币、五分硬币、以及美分个数\n",
    "<img src=\"../Photo/22.png\"></img>"
   ]
  },
  {
   "cell_type": "markdown",
   "metadata": {},
   "source": [
    "- Python弱项，对于浮点型的处理并不是很好，但是处理数据的时候使用的是Numpy类型\n",
    "<img src=\"../Photo/23.png\"></img>"
   ]
  },
  {
   "cell_type": "markdown",
   "metadata": {},
   "source": [
    "## id与type\n",
    "- id 查看内存地址，在判断语句中将会使用\n",
    "- type 查看元素类型"
   ]
  },
  {
   "cell_type": "code",
   "execution_count": 33,
   "metadata": {},
   "outputs": [
    {
     "data": {
      "text/plain": [
       "float"
      ]
     },
     "execution_count": 33,
     "metadata": {},
     "output_type": "execute_result"
    }
   ],
   "source": [
    "type(12.0)"
   ]
  },
  {
   "cell_type": "code",
   "execution_count": 39,
   "metadata": {},
   "outputs": [
    {
     "name": "stdout",
     "output_type": "stream",
     "text": [
      "2439975126288 2439975127632\n"
     ]
    }
   ],
   "source": [
    "a = 257                      # -5 至 256 之间定义相同数值，地址相同\n",
    "b = 257\n",
    "print(id(a),id(b))"
   ]
  },
  {
   "cell_type": "markdown",
   "metadata": {},
   "source": [
    "## 其他格式化语句见书"
   ]
  },
  {
   "cell_type": "markdown",
   "metadata": {},
   "source": [
    "# Homework\n",
    "- 1\n",
    "<img src=\"../Photo/24.png\"><img>\n",
    "<img src=\"../Photo/25.png\"><img>"
   ]
  },
  {
   "cell_type": "code",
   "execution_count": 13,
   "metadata": {},
   "outputs": [
    {
     "name": "stdout",
     "output_type": "stream",
     "text": [
      "Enter the length from the center to a vertex: 5.5\n",
      "The area of the pentagon is 71.92\n"
     ]
    }
   ],
   "source": [
    "import math\n",
    "r = eval(input('Enter the length from the center to a vertex: '))\n",
    "s = 2*r*(math.sin(math.pi/5))\n",
    "area = 5 * s * s / (4 * math.tan(math.pi/5))\n",
    "print('The area of the pentagon is '+ str(round(area,2)))"
   ]
  },
  {
   "cell_type": "markdown",
   "metadata": {},
   "source": [
    "- 2\n",
    "<img src=\"../Photo/26.png\"><img>"
   ]
  },
  {
   "cell_type": "code",
   "execution_count": 18,
   "metadata": {},
   "outputs": [
    {
     "name": "stdout",
     "output_type": "stream",
     "text": [
      "Enter point 1（latitude and longitude）in degrees: 39.55,-116.25\n",
      "Enter point 2（latitude and longitude）in degrees: 41.5,87.37\n",
      "The distance between the two points is 10691.79183231593 km\n"
     ]
    }
   ],
   "source": [
    "import math\n",
    "\n",
    "x1,y1= eval(input('Enter point 1（latitude and longitude）in degrees: '))\n",
    "x2,y2= eval(input('Enter point 2（latitude and longitude）in degrees: '))\n",
    "\n",
    "part1= math.sin(math.radians(x1)) * math.sin(math.radians(x2))\n",
    "part2= math.cos(math.radians(x1)) * math.cos(math.radians(x2)) * math.cos(math.radians(y1-y2))\n",
    "part3= math.acos(part1+part2)\n",
    "d = 6371.01 * part3\n",
    "print('The distance between the two points is '+ str(d)+' km')"
   ]
  },
  {
   "cell_type": "markdown",
   "metadata": {},
   "source": [
    "- 3\n",
    "<img src=\"../Photo/27.png\"><img>"
   ]
  },
  {
   "cell_type": "code",
   "execution_count": 22,
   "metadata": {},
   "outputs": [
    {
     "name": "stdout",
     "output_type": "stream",
     "text": [
      "Enter the side : 5.5\n",
      "The area of the pentagon is 52.044441367816255\n"
     ]
    }
   ],
   "source": [
    "import math\n",
    "s = eval(input('Enter the side : '))\n",
    "area = (5 * (s ** 2)) / (4 * math.tan(math.pi/5))\n",
    "print('The area of the pentagon is '+ str(area))"
   ]
  },
  {
   "cell_type": "markdown",
   "metadata": {},
   "source": [
    "- 4\n",
    "<img src=\"../Photo/28.png\"><img>"
   ]
  },
  {
   "cell_type": "code",
   "execution_count": 23,
   "metadata": {},
   "outputs": [
    {
     "name": "stdout",
     "output_type": "stream",
     "text": [
      "Enter the number of sides: 5\n",
      "Enter the side : 6.5\n",
      "The area of the polygon is 72.69017017488386\n"
     ]
    }
   ],
   "source": [
    "number = eval(input('Enter the number of sides: '))\n",
    "side = eval(input('Enter the side : '))\n",
    "\n",
    "area = (number * (side**2))/(4 * math.tan(math.pi/number))\n",
    "print('The area of the polygon is '+ str(area))"
   ]
  },
  {
   "cell_type": "markdown",
   "metadata": {},
   "source": [
    "- 5\n",
    "<img src=\"../Photo/29.png\"><img>\n",
    "<img src=\"../Photo/30.png\"><img>"
   ]
  },
  {
   "cell_type": "code",
   "execution_count": 25,
   "metadata": {},
   "outputs": [
    {
     "name": "stdout",
     "output_type": "stream",
     "text": [
      "Enter an ASCII code: 69\n",
      "The character is E\n"
     ]
    }
   ],
   "source": [
    "ascii_ = eval(input('Enter an ASCII code: '))\n",
    "character = chr(ascii_)\n",
    "print('The character is '+str(character))"
   ]
  },
  {
   "cell_type": "markdown",
   "metadata": {},
   "source": [
    "- 6\n",
    "<img src=\"../Photo/31.png\"><img>"
   ]
  },
  {
   "cell_type": "code",
   "execution_count": 27,
   "metadata": {},
   "outputs": [
    {
     "name": "stdout",
     "output_type": "stream",
     "text": [
      "Enter employee is name: smith\n",
      "Enter number of hours worked in a week: 10\n",
      "Enter hourly pay rate: 9.75\n",
      "Enter federal tax withholding rate: 0.20\n",
      "Enter state tax withholding rate: 0.09\n",
      "Employee Name: smith\n",
      "Hours Worked: 10\n",
      "Pay Rate: $9.75\n",
      "Cross pay: $97.5\n",
      "Deductions: \n",
      "   Fedeal withholding（20.0%）: $19.5\n",
      "   State Withholding（9.0%）: $8.775\n",
      "Net Pay: $69.225\n"
     ]
    }
   ],
   "source": [
    "name = input('Enter employee is name: ')\n",
    "time = eval(input('Enter number of hours worked in a week: '))\n",
    "rate = eval(input('Enter hourly pay rate: '))\n",
    "frate = eval(input('Enter federal tax withholding rate: '))\n",
    "srate = eval(input('Enter state tax withholding rate: '))\n",
    "crosspay= rate * time\n",
    "federal= crosspay * frate\n",
    "stateal= crosspay * srate\n",
    "total = federal + stateal\n",
    "netpay = crosspay - total\n",
    "\n",
    "print('Employee Name: '+ str(name))\n",
    "print('Hours Worked: '+ str(time))\n",
    "print('Pay Rate: $'+str(rate))\n",
    "print('Cross pay: $'+str(crosspay))\n",
    "print('Deductions: ')\n",
    "print('   Fedeal withholding（20.0%）: $'+str(federal))\n",
    "print('   State Withholding（9.0%）: $'+str(stateal))\n",
    "print('Net Pay: $'+str(netpay))"
   ]
  },
  {
   "cell_type": "markdown",
   "metadata": {},
   "source": [
    "- 7\n",
    "<img src=\"../Photo/32.png\"><img>"
   ]
  },
  {
   "cell_type": "code",
   "execution_count": 40,
   "metadata": {},
   "outputs": [
    {
     "name": "stdout",
     "output_type": "stream",
     "text": [
      "Enter an integer: 1234\n",
      "The reversed number is 4321\n"
     ]
    }
   ],
   "source": [
    "number = input('Enter an integer: ')\n",
    "def reverse1():\n",
    "    s = number\n",
    "    return s[::-1]\n",
    "reverse1()\n",
    "print('The reversed number is '+str(reverse1()))"
   ]
  },
  {
   "cell_type": "markdown",
   "metadata": {},
   "source": [
    "- 8 进阶：\n",
    "> 加密一串文本，并将解密后的文件写入本地保存"
   ]
  },
  {
   "cell_type": "code",
   "execution_count": 38,
   "metadata": {},
   "outputs": [
    {
     "name": "stdout",
     "output_type": "stream",
     "text": [
      "请输入加密文字: hello\n"
     ]
    }
   ],
   "source": [
    "text =input('请输入加密文字: ')\n",
    "\n",
    "for i in text: \n",
    "    f = open('C:\\\\Users\\\\User\\\\Desktop\\\\Python\\\\page\\\\demo.txt','a')   #a表示可连续写入\n",
    "    f.write(chr(ord(i)+10))\n",
    "    f.close()\n",
    "\n",
    "    \n",
    "\n"
   ]
  }
 ],
 "metadata": {
  "kernelspec": {
   "display_name": "Python 3",
   "language": "python",
   "name": "python3"
  },
  "language_info": {
   "codemirror_mode": {
    "name": "ipython",
    "version": 3
   },
   "file_extension": ".py",
   "mimetype": "text/x-python",
   "name": "python",
   "nbconvert_exporter": "python",
   "pygments_lexer": "ipython3",
   "version": "3.6.4"
  }
 },
 "nbformat": 4,
 "nbformat_minor": 2
}
