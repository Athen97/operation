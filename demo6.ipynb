{
 "cells": [
  {
   "cell_type": "markdown",
   "metadata": {},
   "source": [
    "# 对象和类\n",
    "- 一个学生，一张桌子，一个圆都是对象\n",
    "- 对象是类的一个实例，你可以创建多个对象，创建类的一个实例过程被称为实例化，\n",
    "- 在Python中对象就是实例，而实例就是对象"
   ]
  },
  {
   "cell_type": "markdown",
   "metadata": {},
   "source": [
    "## 定义类\n",
    "class ClassName:\n",
    "\n",
    "    do something\n",
    "    \n",
    "- class 类的表示与def 一样\n",
    "- 类名最好使用驼峰式\n",
    "- 在Python2中类是需要继承基类object的，在Python中默认继承，可写可不写\n",
    "- 可以将普通代码理解为皮肤，而函数可以理解为内衣，那么类可以理解为外套"
   ]
  },
  {
   "cell_type": "code",
   "execution_count": null,
   "metadata": {},
   "outputs": [],
   "source": [
    "#python2中要写object，python3则不用，默认继承object\n",
    "class classname(object):\n",
    "    pass"
   ]
  },
  {
   "cell_type": "markdown",
   "metadata": {},
   "source": [
    "## 定义一个不含初始化__init__的简单类\n",
    "class ClassName:\n",
    "\n",
    "    joker = “Home”\n",
    "    \n",
    "    def func():\n",
    "        print('Worker')\n",
    "    \n",
    "- 尽量少使用"
   ]
  },
  {
   "cell_type": "code",
   "execution_count": 4,
   "metadata": {},
   "outputs": [],
   "source": [
    "class ClassName:\n",
    "    joker = 'Home'\n",
    "\n",
    "    def func():\n",
    "        print('Worker')"
   ]
  },
  {
   "cell_type": "code",
   "execution_count": 5,
   "metadata": {},
   "outputs": [
    {
     "name": "stdout",
     "output_type": "stream",
     "text": [
      "Worker\n"
     ]
    }
   ],
   "source": [
    "ClassName.joker              #使用  .  引用类内对象\n",
    "ClassName.func()"
   ]
  },
  {
   "cell_type": "code",
   "execution_count": 17,
   "metadata": {},
   "outputs": [],
   "source": [
    "import pygame\n",
    "class music:\n",
    "    def playmusic():\n",
    "        pygame.mixer.init()\n",
    "        print(\"播放音乐2\")\n",
    "        track1=pygame.mixer.music.load('../music/1.mp3')\n",
    "        pygame.mixer.music.play()"
   ]
  },
  {
   "cell_type": "code",
   "execution_count": 20,
   "metadata": {
    "scrolled": true
   },
   "outputs": [
    {
     "name": "stdout",
     "output_type": "stream",
     "text": [
      "播放音乐2\n"
     ]
    }
   ],
   "source": [
    "music.playmusic()"
   ]
  },
  {
   "cell_type": "code",
   "execution_count": 21,
   "metadata": {},
   "outputs": [],
   "source": [
    "class class_name:\n",
    "    def __init__(self):#类中的初始化函数\n",
    "        self.joker = 'hhaa'\n",
    "    def fun1(self): #self标记为类中函数，不标记self就不可以获取初始化和其他函数\n",
    "        print(self.joker)"
   ]
  },
  {
   "cell_type": "code",
   "execution_count": null,
   "metadata": {},
   "outputs": [],
   "source": [
    "class_name()#类名+（）代表初始化\n"
   ]
  },
  {
   "cell_type": "code",
   "execution_count": 78,
   "metadata": {},
   "outputs": [],
   "source": [
    "class jisuan:\n",
    "    def __init__(self,num1,num2):\n",
    "        self.diyi=num1\n",
    "        self.dier=num2\n",
    "    def pow1(self,c):\n",
    "        m = self.diyi ** 2 + c\n",
    "        print(m)\n",
    "        return m\n",
    "    def pow2(self):\n",
    "        n=self.diyi **3\n",
    "        print(n)\n",
    "        return n\n",
    "    def pow3(self):\n",
    "        m1=self.pow1()\n",
    "        n1=self.pow2()\n",
    "        print(n1-m1)"
   ]
  },
  {
   "cell_type": "code",
   "execution_count": 79,
   "metadata": {
    "scrolled": true
   },
   "outputs": [
    {
     "name": "stdout",
     "output_type": "stream",
     "text": [
      "403\n"
     ]
    },
    {
     "data": {
      "text/plain": [
       "403"
      ]
     },
     "execution_count": 79,
     "metadata": {},
     "output_type": "execute_result"
    }
   ],
   "source": [
    "jisuan(20,20).pow1(3)"
   ]
  },
  {
   "cell_type": "markdown",
   "metadata": {},
   "source": [
    "## 定义一个标准类\n",
    "- __init__ 代表初始化，可以初始化任何动作\n",
    "- 此时类调用要使用()，其中（）可以理解为开始初始化\n",
    "- 初始化内的元素，类中其他的函数可以共享\n",
    "![](../Photo/85.png)"
   ]
  },
  {
   "cell_type": "markdown",
   "metadata": {},
   "source": [
    "- Circle 和 className_ 的第一个区别有 __init__ 这个函数\n",
    "- 。。。。   第二个区别，类中的每一个函数都有self的这个“参数”"
   ]
  },
  {
   "cell_type": "markdown",
   "metadata": {},
   "source": [
    "## 何为self？\n",
    "- self 是指向对象本身的参数\n",
    "- self 只是一个命名规则，其实可以改变的，但是我们约定俗成的是self，也便于理解\n",
    "- 使用了self就可以访问类中定义的成员\n",
    "<img src=\"../Photo/86.png\"></img>"
   ]
  },
  {
   "cell_type": "markdown",
   "metadata": {},
   "source": [
    "## 使用类 Cirlcle"
   ]
  },
  {
   "cell_type": "markdown",
   "metadata": {},
   "source": [
    "## 类的传参\n",
    "- class ClassName:\n",
    "    \n",
    "        def __init__(self, para1,para2...)：\n",
    "            \n",
    "            self.para1 = para1\n",
    "            \n",
    "            self.para2 = para2"
   ]
  },
  {
   "cell_type": "markdown",
   "metadata": {},
   "source": [
    "## EP:\n",
    "- A：定义一个类，类中含有两个功能：\n",
    "    - 1、计算随机数的最大值\n",
    "    - 2、计算随机数的最小值\n",
    "- B：定义一个类，（类中函数的嵌套使用）\n",
    "    - 1、第一个函数的功能为：输入一个数字\n",
    "    - 2、第二个函数的功能为：使用第一个函数中得到的数字进行平方处理\n",
    "    - 3、第三个函数的功能为：得到平方处理后的数字 - 原来输入的数字，并打印结果"
   ]
  },
  {
   "cell_type": "code",
   "execution_count": 88,
   "metadata": {},
   "outputs": [],
   "source": [
    "import random\n",
    "class xzm:\n",
    "    def __init__(self):\n",
    "        self.a=random.randint(1,99)\n",
    "        self.b=random.randint(1,99)\n",
    "    def max(self):\n",
    "        if self.a>self.b:\n",
    "            print(self.a)\n",
    "            print(self.b)\n",
    "            print('最大值为：'+str(self.a))\n",
    "        elif self.a<self.b:\n",
    "            print(self.a)\n",
    "            print(self.b)\n",
    "            print('最大值为：'+str(self.b))\n",
    "    def min(self):\n",
    "        if self.a>self.b:\n",
    "            print(self.a)\n",
    "            print(self.b)\n",
    "            print('最小值为：'+str(self.b))\n",
    "        elif self.a<self.b:\n",
    "            print(self.a)\n",
    "            print(self.b)\n",
    "            print('最小值为：'+str(self.a))"
   ]
  },
  {
   "cell_type": "code",
   "execution_count": 89,
   "metadata": {},
   "outputs": [
    {
     "name": "stdout",
     "output_type": "stream",
     "text": [
      "40\n",
      "47\n",
      "最大值为：47\n"
     ]
    }
   ],
   "source": [
    "xzm().max()"
   ]
  },
  {
   "cell_type": "markdown",
   "metadata": {},
   "source": [
    "## 类的继承\n",
    "- 类的单继承\n",
    "- 类的多继承\n",
    "- 继承标识\n",
    ">  class SonClass(FatherClass):\n",
    "            \n",
    "            def __init__(self):\n",
    "            \n",
    "                FatherClass.__init__(self)"
   ]
  },
  {
   "cell_type": "code",
   "execution_count": 7,
   "metadata": {},
   "outputs": [],
   "source": [
    "class mayun:                #定义一个父类\n",
    "    def __init__(self):          \n",
    "        self.caichan=1000000000\n",
    "    def showmoney(self):\n",
    "        print(self.caichan)"
   ]
  },
  {
   "cell_type": "code",
   "execution_count": 10,
   "metadata": {},
   "outputs": [],
   "source": [
    "class xzm(mayun):         #（父类）\n",
    "    def __init__(self):\n",
    "        mayun.__init__(self)  #声明继承了mayun的初始化\n",
    "        self.name='xuzhongmo'\n",
    "    def showname(self):\n",
    "        print(self.name)\n",
    "        print(self.caichan)"
   ]
  },
  {
   "cell_type": "code",
   "execution_count": 11,
   "metadata": {},
   "outputs": [
    {
     "name": "stdout",
     "output_type": "stream",
     "text": [
      "xuzhongmo\n",
      "1000000000\n"
     ]
    }
   ],
   "source": [
    "xzm().showname()"
   ]
  },
  {
   "cell_type": "code",
   "execution_count": 12,
   "metadata": {},
   "outputs": [],
   "source": [
    "class getnum:\n",
    "    def __init__(self):\n",
    "        self.nums=10\n",
    "    def shownums(self):\n",
    "        print(self.nums)"
   ]
  },
  {
   "cell_type": "code",
   "execution_count": 17,
   "metadata": {},
   "outputs": [],
   "source": [
    "class jisuan(getnum):\n",
    "    def __init__(self):\n",
    "        getnum.__init__(self)\n",
    "    def pow1(self):\n",
    "        self.num1=self.nums**2\n",
    "        print(self.num1)"
   ]
  },
  {
   "cell_type": "code",
   "execution_count": 18,
   "metadata": {},
   "outputs": [
    {
     "name": "stdout",
     "output_type": "stream",
     "text": [
      "100\n"
     ]
    }
   ],
   "source": [
    "jisuan().pow1()"
   ]
  },
  {
   "cell_type": "code",
   "execution_count": 52,
   "metadata": {},
   "outputs": [],
   "source": [
    "class erci:\n",
    "    def __init__(self,num1):\n",
    "        self.num1=num1\n",
    "    def prin1(self):\n",
    "        self.sum1=self.num1**2\n",
    "        return self.sum1"
   ]
  },
  {
   "cell_type": "code",
   "execution_count": 51,
   "metadata": {},
   "outputs": [],
   "source": [
    "class sanci:\n",
    "    def __init__(self,num1):\n",
    "        self.num2=num1\n",
    "    def prin2(self):\n",
    "        self.sum2=self.num2**3\n",
    "        return self.sum2"
   ]
  },
  {
   "cell_type": "code",
   "execution_count": 53,
   "metadata": {},
   "outputs": [],
   "source": [
    "class chazhi(erci,sanci):\n",
    "    def __init__(self,num1):\n",
    "        erci.__init__(self,num1)\n",
    "        sanci.__init__(self,num1)\n",
    "        self.sum11=self.prin1()\n",
    "        self.sum22=self.prin2()\n",
    "    def jisuan(self):\n",
    "        \n",
    "        sum3=self.sum22-self.sum11\n",
    "        print(sum3)"
   ]
  },
  {
   "cell_type": "code",
   "execution_count": 54,
   "metadata": {},
   "outputs": [
    {
     "name": "stdout",
     "output_type": "stream",
     "text": [
      "900\n"
     ]
    }
   ],
   "source": [
    "chazhi(10).jisuan()"
   ]
  },
  {
   "cell_type": "markdown",
   "metadata": {},
   "source": [
    "## 私有数据域(私有变量，或者私有函数)\n",
    "- 在Python中 变量名或者函数名使用双下划线代表私有  \\__Joker,   def \\__Joker():\n",
    "- 私有数据域不可继承\n",
    "- 私有数据域强制继承   \\__dir__()"
   ]
  },
  {
   "cell_type": "markdown",
   "metadata": {},
   "source": [
    "![](../Photo/87.png)"
   ]
  },
  {
   "cell_type": "markdown",
   "metadata": {},
   "source": [
    "## EP:\n",
    "![](../Photo/88.png)\n",
    "![](../Photo/89.png)\n",
    "![](../Photo/90.png)\n"
   ]
  },
  {
   "cell_type": "markdown",
   "metadata": {},
   "source": [
    "## 类的其他\n",
    "- 类的封装\n",
    "    - 实际上就是将一类功能放在一起，方便未来进行管理\n",
    "- 类的继承（上面已经讲过）\n",
    "- 类的多态\n",
    "    - 包括装饰器：将放在以后处理高级类中教\n",
    "    - 装饰器的好处：当许多类中的函数需要使用同一个功能的时候，那么使用装饰器就会方便许多\n",
    "    - 装饰器是有固定的写法\n",
    "        - 其包括普通装饰器与带参装饰器"
   ]
  },
  {
   "cell_type": "code",
   "execution_count": 60,
   "metadata": {},
   "outputs": [
    {
     "data": {
      "text/plain": [
       "'视频'"
      ]
     },
     "execution_count": 60,
     "metadata": {},
     "output_type": "execute_result"
    }
   ],
   "source": [
    "import requests\n",
    "import re\n",
    "url = 'http://www.baidu.com'\n",
    "response=requests.get(url)  #get请求\n",
    "response.encoding = 'utf-8'\n",
    "html = response.text\n",
    "res1 = re.search('trvideo\\s.*?>(.*?)</a>',html)\n",
    "res1.group(1)"
   ]
  },
  {
   "cell_type": "code",
   "execution_count": null,
   "metadata": {},
   "outputs": [],
   "source": [
    "import re  #导入正则表达式\n",
    "a= '123xuzhongmo..'\n",
    "re.search()"
   ]
  },
  {
   "cell_type": "markdown",
   "metadata": {},
   "source": [
    "# Homework\n",
    "## UML类图可以不用画\n",
    "## UML 实际上就是一个思维图\n",
    "- 1\n",
    "![](../Photo/91.png)"
   ]
  },
  {
   "cell_type": "code",
   "execution_count": 85,
   "metadata": {},
   "outputs": [],
   "source": [
    "class Rectangle:                      #定义类名\n",
    "    def __init__(self):               #定义初始化\n",
    "        self.width1=4                  #定义宽和长的值\n",
    "        self.height1=40\n",
    "        self.width2=3.5\n",
    "        self.height2=35.7\n",
    "    def getArea(self):                #定义计算面积的方法\n",
    "        area1 = self.width1 * self.height1\n",
    "        area2 = self.width2 * self.height2\n",
    "        return area1,area2\n",
    "    def getPerimeter(self):           #定义计算周长的方法\n",
    "        long1 =(self.width1+self.height1)*2\n",
    "        long2 =(self.width2+self.height2)*2\n",
    "        return long1,long2\n",
    "    def ceshi(self):\n",
    "        printarea=self.getArea() #获取面积返回值\n",
    "        printlong=self.getPerimeter()#获取周长返回值\n",
    "        \n",
    "        print('矩形一的宽为： '+str(self.width1)+' 高为： '+str(self.height1)+' 面积为：'+str(printarea[0])+' 周长为：'+str(printlong[0]))\n",
    "        print('矩形二的宽为： '+str(self.width2)+' 高为： '+str(self.height2)+' 面积为：'+str(round(printarea[1],2))+' 周长为：'+str(printlong[1]))"
   ]
  },
  {
   "cell_type": "code",
   "execution_count": 86,
   "metadata": {},
   "outputs": [
    {
     "name": "stdout",
     "output_type": "stream",
     "text": [
      "矩形一的宽为： 4 高为： 40 面积为：160 周长为：88\n",
      "矩形二的宽为： 3.5 高为： 35.7 面积为：124.95 周长为：78.4\n"
     ]
    }
   ],
   "source": [
    "Rectangle().ceshi()"
   ]
  },
  {
   "cell_type": "markdown",
   "metadata": {},
   "source": [
    "- 2\n",
    "![](../Photo/92.png)"
   ]
  },
  {
   "cell_type": "code",
   "execution_count": 73,
   "metadata": {},
   "outputs": [],
   "source": [
    "class Account:\n",
    "    #初始化\n",
    "    def __init__(self):\n",
    "        self.__id=None           #id的私有值域\n",
    "        self.__balance=None      #私有浮点数值域\n",
    "        self.__annuallnterestRate=None #私有利率值域，百分数\n",
    "    #构造方法\n",
    "    def gouzao(self,i_d=0,b_alance=0,r_ate=0):#定义三个具有默认值的参数\n",
    "        self.__id=i_d         #id\n",
    "        self.__balance=b_alance  #初始额\n",
    "        self.__annuallnterestRate=r_ate  #年利率\n",
    "        return i_d,b_alance,r_ate\n",
    "    #月利率方法\n",
    "    def getMonthlyInterestRate(self,rate):\n",
    "        monthrate = (rate/100) /12 #月利率计算公式，monthrate代表月利率\n",
    "        return monthrate                                    #返回月利率\n",
    "    #月利息方法\n",
    "    def getMonthlyInterest(self,balance,getmonthrate ):\n",
    "        #getmonthrate =self.getMonthlyInterestRate()     #获取月利率\n",
    "        #getb_alance = self.gouzao()           #获取初始额\n",
    "        monthmoney = balance * getmonthrate    #月利息计算公式，monthmoney 代表月利息\n",
    "        return monthmoney\n",
    "    #取钱方法\n",
    "    def withdraw(self,getmoney):\n",
    "        getb_alance = self.gouzao() #获取初始额\n",
    "        finalmoney1 = getb_alance[1] - getmoney\n",
    "        return finalmoney1\n",
    "     #存钱方法   \n",
    "    def deposit(self,setmoney):\n",
    "        getb_alance = self.gouzao() #获取初始额\n",
    "        finalmoney2 = getb_alance[1] + setmoney\n",
    "        return finalmoney2"
   ]
  },
  {
   "cell_type": "code",
   "execution_count": 77,
   "metadata": {},
   "outputs": [
    {
     "name": "stdout",
     "output_type": "stream",
     "text": [
      "用户id是： 1122 金额是： 20500 月利率为： 0.375 月利息为： 76.875\n"
     ]
    }
   ],
   "source": [
    "a = Account() #实例化对象a\n",
    "id_=a.gouzao(1122,20000,4.5)\n",
    "qu=a.withdraw(2500)\n",
    "cun=a.deposit(3000)\n",
    "money=id_[1]+qu+cun                #存款\n",
    "rate=a.getMonthlyInterestRate(4.5)*100 #月利率\n",
    "monthmoney=a.getMonthlyInterest(money,rate/100)#月利息\n",
    "print('用户id是： '+str(id_[0])+' 金额是： '+str(money)+' 月利率为： '+str(rate)+' 月利息为： '+str(monthmoney))\n"
   ]
  },
  {
   "cell_type": "markdown",
   "metadata": {},
   "source": [
    "- 3\n",
    "![](../Photo/93.png)"
   ]
  },
  {
   "cell_type": "code",
   "execution_count": 107,
   "metadata": {},
   "outputs": [],
   "source": [
    "class Fan:\n",
    "    def __init__(self):\n",
    "        self.SLOW=1\n",
    "        self.MEDIUM=2\n",
    "        self.FAST=3\n",
    "        self.speed=None    \n",
    "        self.on=False\n",
    "        self.radius=None\n",
    "        self.color=None\n",
    "    def demo(self,speed=1,radius=5,color='blue',on=False):\n",
    "        if speed==1:\n",
    "            nowspeed='SLOW'\n",
    "        elif speed==2:\n",
    "            nowspeed='MEDIUM'\n",
    "        elif speed==3:\n",
    "            nowspeed='FAST'\n",
    "        nowradius=radius\n",
    "        nowcolor=color\n",
    "        if on==False:\n",
    "            nowon='关闭'\n",
    "        elif on ==True:\n",
    "            nowon='打开'\n",
    "        return nowspeed,nowradius,nowcolor,nowon\n",
    "    \n",
    "        "
   ]
  },
  {
   "cell_type": "code",
   "execution_count": 108,
   "metadata": {},
   "outputs": [
    {
     "name": "stdout",
     "output_type": "stream",
     "text": [
      "当前速度为： FAST 半径为： 10 颜色为： yellow 开关为： 打开\n"
     ]
    }
   ],
   "source": [
    "a=Fan()\n",
    "text=a.demo(3,10,'yellow',False)\n",
    "aspeed=text[0]\n",
    "aradius=text[1]\n",
    "acolor=text[2]\n",
    "aon=text[3]\n",
    "print('当前速度为： '+str(aspeed)+ ' 半径为： '+str(aradius)+' 颜色为： '+str(acolor)+' 开关为： '+str(aon))"
   ]
  },
  {
   "cell_type": "code",
   "execution_count": 109,
   "metadata": {},
   "outputs": [
    {
     "name": "stdout",
     "output_type": "stream",
     "text": [
      "当前速度为： MEDIUM 半径为： 5 颜色为： blue 开关为： 打开\n"
     ]
    }
   ],
   "source": [
    "b=Fan()\n",
    "text=b.demo(2,5,'blue',True)\n",
    "bspeed=text[0]\n",
    "bradius=text[1]\n",
    "bcolor=text[2]\n",
    "bon=text[3]\n",
    "print('当前速度为： '+str(bspeed)+ ' 半径为： '+str(bradius)+' 颜色为： '+str(bcolor)+' 开关为： '+str(bon))"
   ]
  },
  {
   "cell_type": "markdown",
   "metadata": {},
   "source": [
    "- 4\n",
    "![](../Photo/94.png)\n",
    "![](../Photo/95.png)"
   ]
  },
  {
   "cell_type": "code",
   "execution_count": null,
   "metadata": {},
   "outputs": [],
   "source": [
    "class RegularPolygon:\n",
    "    def __init__(self):\n",
    "        self.n=None\n",
    "        self.side=None\n",
    "        self.x=0\n",
    "        self.y=0\n",
    "    def Polygon(self,n=3,side=1,x=0,y=0):\n",
    "        polygon_n=n\n",
    "        polygon_side=side\n",
    "        polygon_x=x\n",
    "        polygon_y=y\n",
    "        return polygon_n,polygon_side,polygon_x,polygon_y\n",
    "    def getPerimeter(self,n,side):\n",
    "        getn1=n\n",
    "        getside1=side\n",
    "        perimeter=getn1*getside1\n",
    "        return perimeter\n",
    "    def getArea(self):\n",
    "        "
   ]
  },
  {
   "cell_type": "markdown",
   "metadata": {},
   "source": [
    "- 5\n",
    "![](../Photo/96.png)"
   ]
  },
  {
   "cell_type": "markdown",
   "metadata": {},
   "source": [
    "- 6\n",
    "![](../Photo/97.png)"
   ]
  },
  {
   "cell_type": "markdown",
   "metadata": {},
   "source": [
    "- 7\n",
    "![](../Photo/98.png)"
   ]
  }
 ],
 "metadata": {
  "kernelspec": {
   "display_name": "Python 3",
   "language": "python",
   "name": "python3"
  },
  "language_info": {
   "codemirror_mode": {
    "name": "ipython",
    "version": 3
   },
   "file_extension": ".py",
   "mimetype": "text/x-python",
   "name": "python",
   "nbconvert_exporter": "python",
   "pygments_lexer": "ipython3",
   "version": "3.6.4"
  }
 },
 "nbformat": 4,
 "nbformat_minor": 2
}
