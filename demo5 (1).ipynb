{
 "cells": [
  {
   "cell_type": "markdown",
   "metadata": {},
   "source": [
    "# 函数\n",
    "\n",
    "- 函数可以用来定义可重复代码，组织和简化\n",
    "- 一般来说一个函数在实际开发中为一个小功能\n",
    "- 一个类为一个大功能\n",
    "- 同样函数的长度不要超过一屏"
   ]
  },
  {
   "cell_type": "markdown",
   "metadata": {},
   "source": [
    "## 定义一个函数\n",
    "\n",
    "def function_name(list of parameters):\n",
    "    \n",
    "    do something\n",
    "![](../Photo/69.png)\n",
    "- 以前使用的random 或者range 或者print.. 其实都是函数或者类"
   ]
  },
  {
   "cell_type": "markdown",
   "metadata": {},
   "source": [
    "## 调用一个函数\n",
    "- functionName()\n",
    "- \"()\" 就代表调用"
   ]
  },
  {
   "cell_type": "code",
   "execution_count": 1,
   "metadata": {},
   "outputs": [],
   "source": [
    "def number():\n",
    "    '''\n",
    "    这是一个判断奇数偶数的函数\n",
    "    \n",
    "    '''\n",
    "    a=eval(input('>>'))\n",
    "    if a%2==0:\n",
    "        print('是偶数')\n",
    "    else:\n",
    "        print('是奇数')\n",
    "    "
   ]
  },
  {
   "cell_type": "code",
   "execution_count": 2,
   "metadata": {},
   "outputs": [],
   "source": [
    "def fun1():\n",
    "    i = print('>>')\n",
    "    for i in range(2,51):\n",
    "        for j in range(2,i):\n",
    "            if i % j ==0:\n",
    "                break\n",
    "        else:\n",
    "            print(i)"
   ]
  },
  {
   "cell_type": "markdown",
   "metadata": {},
   "source": [
    "![](../Photo/70.png)"
   ]
  },
  {
   "cell_type": "markdown",
   "metadata": {},
   "source": [
    "## 带返回值和不带返回值的函数\n",
    "- return 返回的内容\n",
    "- return 返回多个值\n",
    "- 一般情况下，在多个函数协同完成一个功能的时候，那么将会有返回值"
   ]
  },
  {
   "cell_type": "markdown",
   "metadata": {},
   "source": [
    "![](../Photo/71.png)\n",
    "\n",
    "- 当然也可以自定义返回None"
   ]
  },
  {
   "cell_type": "markdown",
   "metadata": {},
   "source": [
    "## EP：\n",
    "![](../Photo/72.png)"
   ]
  },
  {
   "cell_type": "markdown",
   "metadata": {},
   "source": [
    "## 类型和关键字参数\n",
    "- 普通参数\n",
    "- 多个参数\n",
    "- 默认值参数\n",
    "- 不定长参数"
   ]
  },
  {
   "cell_type": "code",
   "execution_count": 3,
   "metadata": {},
   "outputs": [],
   "source": [
    "import os\n",
    "def kuajing(name):             #传参\n",
    "    os.system('say {} 你这是一个小天才'.format(name))"
   ]
  },
  {
   "cell_type": "code",
   "execution_count": 4,
   "metadata": {},
   "outputs": [],
   "source": [
    "def er(number):\n",
    "    return number**2\n",
    "def san(number):\n",
    "    return number**3\n",
    "def jisuan():\n",
    "    number=eval(input('>>>'))\n",
    "    x=san(number)\n",
    "    y=er(number)\n",
    "    z=x-y\n",
    "    print(z)\n",
    "    "
   ]
  },
  {
   "cell_type": "code",
   "execution_count": null,
   "metadata": {},
   "outputs": [],
   "source": [
    "import random\n",
    "def yanzheng():\n",
    "    return random.randint(1000,9999)\n",
    "def come():\n",
    "    y = yanzheng()\n",
    "    print(y)\n",
    "    number=eval(input('请输入验证码： '))\n",
    "    if number==y:\n",
    "        print('通过')\n",
    "    elif number!=y:\n",
    "        for i in range(1,3):\n",
    "            print(y)\n",
    "            number=eval(input('请重新输入验证码： '))\n",
    "            if number==y:\n",
    "                print('通过')\n",
    "                break\n",
    "            elif number!=y:\n",
    "                i+=1\n",
    "        else:       \n",
    "            print('超过验证次数')\n",
    "        "
   ]
  },
  {
   "cell_type": "code",
   "execution_count": null,
   "metadata": {},
   "outputs": [
    {
     "name": "stdout",
     "output_type": "stream",
     "text": [
      "2829\n"
     ]
    }
   ],
   "source": [
    "come()"
   ]
  },
  {
   "cell_type": "markdown",
   "metadata": {},
   "source": [
    "## 普通参数"
   ]
  },
  {
   "cell_type": "markdown",
   "metadata": {},
   "source": [
    "## 多个参数"
   ]
  },
  {
   "cell_type": "code",
   "execution_count": null,
   "metadata": {},
   "outputs": [],
   "source": [
    "def kajing(name1,name2,name3):\n",
    "    print('{}{}{}你们都是小帅哥！'.format(name1,name2,name3))\n",
    "    "
   ]
  },
  {
   "cell_type": "code",
   "execution_count": null,
   "metadata": {},
   "outputs": [],
   "source": [
    "kajing(name1='zzh',name2='sss',name3='asda')"
   ]
  },
  {
   "cell_type": "markdown",
   "metadata": {},
   "source": [
    "## 默认值参数"
   ]
  },
  {
   "cell_type": "code",
   "execution_count": null,
   "metadata": {},
   "outputs": [],
   "source": [
    "def kajing1(name1,name2,name3='xzm'):          #定义默认值，如果有默认值统一放入最后面\n",
    "    print('{}{}{}你们都是小帅哥！'.format(name1,name2,name3))"
   ]
  },
  {
   "cell_type": "code",
   "execution_count": null,
   "metadata": {
    "scrolled": true
   },
   "outputs": [],
   "source": [
    "kajing1(45,46)"
   ]
  },
  {
   "cell_type": "code",
   "execution_count": null,
   "metadata": {
    "scrolled": true
   },
   "outputs": [],
   "source": [
    "def zhuce():\n",
    "    name=input('输入用户名：')\n",
    "    passw=eval(input('输入密码：'))\n",
    "    return name,passw\n",
    "def yanzheng(name,passw):\n",
    "    if mian(type_)=='yes':\n",
    "        print('登录成功！')\n",
    "    else:\n",
    "        name1=input('输入用户名：')\n",
    "        passw1=eval(input('输入密码：'))\n",
    "        if name==name1 and passw==passw1:\n",
    "            print('登录成功！')\n",
    "        else:\n",
    "            print('账号或者密码错误！')\n",
    "    "
   ]
  },
  {
   "cell_type": "markdown",
   "metadata": {},
   "source": [
    "## 强制命名"
   ]
  },
  {
   "cell_type": "markdown",
   "metadata": {},
   "source": [
    "## 不定长参数\n",
    "- \\*args\n",
    "> - 不定长，来多少装多少，不装也是可以的\n",
    "  - 返回的数据类型是元组\n",
    "  - args 名字是可以修改的，只是我们约定俗成的是args\n",
    "- \\**kwargs \n",
    "> - 返回的字典\n",
    "  - 输入的一定要是表达式（键值对）\n",
    "- name,\\*args,name2,\\**kwargs  使用参数名"
   ]
  },
  {
   "cell_type": "code",
   "execution_count": null,
   "metadata": {},
   "outputs": [],
   "source": [
    "def text(*args):\n",
    "    print(args)"
   ]
  },
  {
   "cell_type": "code",
   "execution_count": null,
   "metadata": {},
   "outputs": [],
   "source": [
    "text(1,2,3,4,5)    #(1,2,3,4,5)元组"
   ]
  },
  {
   "cell_type": "markdown",
   "metadata": {},
   "source": [
    "## 变量的作用域\n",
    "- 局部变量 local\n",
    "- 全局变量 global\n",
    "- globals 函数返回一个全局变量的字典，包括所有导入的变量\n",
    "- locals() 函数会以字典类型返回当前位置的全部局部变量。"
   ]
  },
  {
   "cell_type": "code",
   "execution_count": null,
   "metadata": {},
   "outputs": [],
   "source": [
    "a=1             #引用函数外的数值时要用global 引用\n",
    "b=2 \n",
    "c=3\n",
    "def txt1():\n",
    "    global a,b,c\n",
    "    a = 1000\n",
    "    b = 2000\n",
    "    c = 3000\n",
    "    print(a,b,c)\n",
    "print(a,b,c)"
   ]
  },
  {
   "cell_type": "code",
   "execution_count": null,
   "metadata": {},
   "outputs": [],
   "source": [
    "txt1()          \n",
    "print(a,b,c)"
   ]
  },
  {
   "cell_type": "markdown",
   "metadata": {},
   "source": [
    "## 注意：\n",
    "- global ：在进行赋值操作的时候需要声明\n",
    "- 官方解释：This is because when you make an assignment to a variable in a scope, that variable becomes local to that scope and shadows any similarly named variable in the outer scope.\n",
    "- ![](../Photo/73.png)"
   ]
  },
  {
   "cell_type": "markdown",
   "metadata": {},
   "source": [
    "# Homework\n",
    "- 1\n",
    "![](../Photo/74.png)"
   ]
  },
  {
   "cell_type": "code",
   "execution_count": null,
   "metadata": {},
   "outputs": [],
   "source": [
    "#定义五角数公式\n",
    "def getPentagonalNumber(n):\n",
    "    num=(n*(3*n-1))/2\n",
    "    return int(num)"
   ]
  },
  {
   "cell_type": "code",
   "execution_count": null,
   "metadata": {},
   "outputs": [],
   "source": [
    "j=0\n",
    "for i in range(1,101):\n",
    "    number=getPentagonalNumber(i)\n",
    "    print(number,end=',')\n",
    "    j += 1\n",
    "    if j % 10 ==0:\n",
    "        print('\\n')\n"
   ]
  },
  {
   "cell_type": "markdown",
   "metadata": {},
   "source": [
    "- 2 \n",
    "![](../Photo/75.png)"
   ]
  },
  {
   "cell_type": "code",
   "execution_count": null,
   "metadata": {},
   "outputs": [],
   "source": [
    "#定义函数\n",
    "def sunDigits(n):\n",
    "    num=0    #存放和\n",
    "    for i in str(n): #当i在字符n内时\n",
    "        num=(n%10)+num  #取n的最后一位的值\n",
    "        n=n//10         #去掉获取过的值\n",
    "    return num"
   ]
  },
  {
   "cell_type": "code",
   "execution_count": null,
   "metadata": {},
   "outputs": [],
   "source": [
    "sunDigits(10086)"
   ]
  },
  {
   "cell_type": "markdown",
   "metadata": {},
   "source": [
    "- 3\n",
    "![](../Photo/76.png)"
   ]
  },
  {
   "cell_type": "code",
   "execution_count": null,
   "metadata": {},
   "outputs": [],
   "source": [
    "def displaySortedNumbers(num1,num2,num3):\n",
    "    a=num1           #分别给输入的数赋予一个值\n",
    "    b=num2\n",
    "    c=num3\n",
    "    num=[]\n",
    "    num.insert(0,a)           # 将a放到列表0号位\n",
    "    num.insert(1,b)           #将b放到列表1号位\n",
    "    num.insert(2,c)           #将c放到列表2号位\n",
    "    num.sort()                 #正序排列列表中的值\n",
    "    number= str(num[0])+' '+str(num[1])+' '+str(num[2]) #格式输出\n",
    "    print(number)"
   ]
  },
  {
   "cell_type": "code",
   "execution_count": null,
   "metadata": {},
   "outputs": [],
   "source": [
    "displaySortedNumbers(2,1,5)"
   ]
  },
  {
   "cell_type": "markdown",
   "metadata": {},
   "source": [
    "- 4\n",
    "![](../Photo/77.png)"
   ]
  },
  {
   "cell_type": "code",
   "execution_count": null,
   "metadata": {},
   "outputs": [],
   "source": [
    "def futureInvestmentValue(investmentAmount,monthlyInterestRate,years=1):\n",
    "    money=investmentAmount\n",
    "    month=years*12\n",
    "    rate=monthlyInterestRate/12\n",
    "    fmoney=money*((1+rate)**month)\n",
    "    return fmoney"
   ]
  },
  {
   "cell_type": "code",
   "execution_count": null,
   "metadata": {},
   "outputs": [],
   "source": [
    "money1=eval(input('请输入本金：'))\n",
    "rate1=eval(input('请输入年利率：'))\n",
    "years1=1\n",
    "print('\\n')\n",
    "print('Years             Future Value')\n",
    "while years1 <=30:\n",
    "    futuervalue=futureInvestmentValue(money1,rate1/100,years1)\n",
    "    years1 += 1\n",
    "    print(str(years1-1)+'                   '+str(round(futuervalue,2)))"
   ]
  },
  {
   "cell_type": "markdown",
   "metadata": {},
   "source": [
    "- 5\n",
    "![](../Photo/78.png)"
   ]
  },
  {
   "cell_type": "code",
   "execution_count": null,
   "metadata": {},
   "outputs": [],
   "source": [
    "def printChars(ch1,ch2,numberPerLine):\n",
    "    x=ch1\n",
    "    y=ch2\n",
    "    j=0\n",
    "    for i in range(x,y+1):\n",
    "        print(i,end='  ')\n",
    "        j += 1\n",
    "        if j%numberPerLine==0:\n",
    "            print('\\n')\n",
    "        "
   ]
  },
  {
   "cell_type": "code",
   "execution_count": null,
   "metadata": {},
   "outputs": [],
   "source": [
    "printChars(1,50,10)"
   ]
  },
  {
   "cell_type": "markdown",
   "metadata": {},
   "source": [
    "- 6\n",
    "![](../Photo/79.png)"
   ]
  },
  {
   "cell_type": "code",
   "execution_count": null,
   "metadata": {},
   "outputs": [],
   "source": [
    "def numberOfDaysInAYear(year):\n",
    "    y=year\n",
    "    sum_=0\n",
    "    if (y%4==0 and y%100!=0) or (y%100==0 and y%400==0):\n",
    "        sum_=366\n",
    "    else:\n",
    "        sum_=365\n",
    "    return sum_"
   ]
  },
  {
   "cell_type": "code",
   "execution_count": null,
   "metadata": {},
   "outputs": [],
   "source": [
    "for i in range(2009,2020):\n",
    "    days=numberOfDaysInAYear(i)\n",
    "    i += 1\n",
    "    print(str(i)+'年的天数是： '+str(days)+'天')"
   ]
  },
  {
   "cell_type": "markdown",
   "metadata": {},
   "source": [
    "- 7\n",
    "![](../Photo/80.png)"
   ]
  },
  {
   "cell_type": "code",
   "execution_count": null,
   "metadata": {},
   "outputs": [],
   "source": [
    "def distance(x1,y1,x2,y2):\n",
    "    a=x1\n",
    "    b=x2\n",
    "    c=y1\n",
    "    d=y2\n",
    "    nums=((a-b)*(a-b) + (c-d)*(c-d))**0.5\n",
    "    return nums"
   ]
  },
  {
   "cell_type": "code",
   "execution_count": null,
   "metadata": {},
   "outputs": [],
   "source": [
    "X1,Y1=eval(input('请输入第一个点的坐标： '))\n",
    "X2,Y2=eval(input('请输入第二个点的坐标： '))\n",
    "length=distance(X1,Y1,X2,Y2)\n",
    "print('两点之间的距离为： '+str(length))"
   ]
  },
  {
   "cell_type": "markdown",
   "metadata": {},
   "source": [
    "- 8\n",
    "![](../Photo/81.png)"
   ]
  },
  {
   "cell_type": "code",
   "execution_count": 19,
   "metadata": {},
   "outputs": [],
   "source": [
    "#梅森素数\n",
    "def meisen(p):\n",
    "    number = 2**p-1\n",
    "    return number\n",
    "    "
   ]
  },
  {
   "cell_type": "code",
   "execution_count": 23,
   "metadata": {},
   "outputs": [
    {
     "name": "stdout",
     "output_type": "stream",
     "text": [
      "p            2^p-1\n",
      "2             3\n",
      "3             7\n",
      "5             31\n",
      "7             127\n",
      "11             2047\n",
      "13             8191\n",
      "17             131071\n",
      "19             524287\n",
      "23             8388607\n",
      "29             536870911\n",
      "31             2147483647\n"
     ]
    }
   ],
   "source": [
    "#判断素数\n",
    "print('p            2^p-1')\n",
    "for i in range(2,32):\n",
    "    for j in range(2,i):\n",
    "        if i % j ==0:\n",
    "            break\n",
    "    else:\n",
    "        numbers=meisen(i)\n",
    "        print(str(i)+'             '+str(numbers))\n",
    "            "
   ]
  },
  {
   "cell_type": "markdown",
   "metadata": {},
   "source": [
    "- 9\n",
    "![](../Photo/82.png)\n",
    "![](../Photo/83.png)"
   ]
  },
  {
   "cell_type": "markdown",
   "metadata": {},
   "source": [
    "- 10\n",
    "![](../Photo/84.png)"
   ]
  },
  {
   "cell_type": "markdown",
   "metadata": {},
   "source": [
    "- 11 \n",
    "### 去网上寻找如何用Python代码发送邮件"
   ]
  }
 ],
 "metadata": {
  "kernelspec": {
   "display_name": "Python 3",
   "language": "python",
   "name": "python3"
  },
  "language_info": {
   "codemirror_mode": {
    "name": "ipython",
    "version": 3
   },
   "file_extension": ".py",
   "mimetype": "text/x-python",
   "name": "python",
   "nbconvert_exporter": "python",
   "pygments_lexer": "ipython3",
   "version": "3.6.4"
  }
 },
 "nbformat": 4,
 "nbformat_minor": 2
}
